{
 "nbformat": 4,
 "nbformat_minor": 2,
 "metadata": {
  "language_info": {
   "name": "python",
   "codemirror_mode": {
    "name": "ipython",
    "version": 3
   },
   "version": "3.8.1-final"
  },
  "orig_nbformat": 2,
  "file_extension": ".py",
  "mimetype": "text/x-python",
  "name": "python",
  "npconvert_exporter": "python",
  "pygments_lexer": "ipython3",
  "version": 3,
  "kernelspec": {
   "name": "python3",
   "display_name": "Python 3"
  }
 },
 "cells": [
  {
   "cell_type": "code",
   "execution_count": null,
   "metadata": {},
   "outputs": [
    {
     "ename": "Error",
     "evalue": "Jupyter notebook failed to launch. \r\nError: Jupyter server crashed. Unable to connect. \r\nError code from jupyter: 0\nFailed to run jupyter as observable with args notebook --no-browser --notebook-dir=C:\\Users\\Mazel\\AppData\\Local\\Temp\\fc2d076b-4cce-4a1f-9e1e-e80196f254df --config=C:\\Users\\Mazel\\AppData\\Local\\Temp\\fc2d076b-4cce-4a1f-9e1e-e80196f254df\\jupyter_notebook_config.py --NotebookApp.iopub_data_rate_limit=10000000000.0\n",
     "output_type": "error",
     "traceback": [
      "Error: Jupyter notebook failed to launch.",
      "Error: Jupyter server crashed. Unable to connect.",
      "Error code from jupyter: 0",
      "Failed to run jupyter as observable with args notebook --no-browser --notebook-dir=C:\\Users\\Mazel\\AppData\\Local\\Temp\\fc2d076b-4cce-4a1f-9e1e-e80196f254df --config=C:\\Users\\Mazel\\AppData\\Local\\Temp\\fc2d076b-4cce-4a1f-9e1e-e80196f254df\\jupyter_notebook_config.py --NotebookApp.iopub_data_rate_limit=10000000000.0",
      "at E.start (c:\\Users\\Mazel\\.vscode\\extensions\\ms-python.python-2020.2.64397\\out\\client\\extension.js:1:825594)"
     ]
    }
   ],
   "source": [
    "import geopandas\n",
    "import matplotlib.pyplot as pyplot\n",
    "# from scipy import interpolate\n",
    "import numpy as np\n",
    "# %matplotlib inline"
   ]
  },
  {
   "cell_type": "code",
   "execution_count": null,
   "metadata": {},
   "outputs": [
    {
     "ename": "Error",
     "evalue": "Jupyter notebook failed to launch. \r\nError: Jupyter server crashed. Unable to connect. \r\nError code from jupyter: 0\nFailed to run jupyter as observable with args notebook --no-browser --notebook-dir=C:\\Users\\Mazel\\AppData\\Local\\Temp\\71421e85-8ad8-441b-b434-86737db70a01 --config=C:\\Users\\Mazel\\AppData\\Local\\Temp\\71421e85-8ad8-441b-b434-86737db70a01\\jupyter_notebook_config.py --NotebookApp.iopub_data_rate_limit=10000000000.0\n",
     "output_type": "error",
     "traceback": [
      "Error: Jupyter notebook failed to launch.",
      "Error: Jupyter server crashed. Unable to connect.",
      "Error code from jupyter: 0",
      "Failed to run jupyter as observable with args notebook --no-browser --notebook-dir=C:\\Users\\Mazel\\AppData\\Local\\Temp\\71421e85-8ad8-441b-b434-86737db70a01 --config=C:\\Users\\Mazel\\AppData\\Local\\Temp\\71421e85-8ad8-441b-b434-86737db70a01\\jupyter_notebook_config.py --NotebookApp.iopub_data_rate_limit=10000000000.0",
      "at E.start (c:\\Users\\Mazel\\.vscode\\extensions\\ms-python.python-2020.2.64397\\out\\client\\extension.js:1:825594)",
      "at runNextTicks (internal/process/task_queues.js:55:5)",
      "at processTimers (internal/timers.js:472:9)"
     ]
    }
   ],
   "source": [
    "berlinDistricts = geopandas.read_file(\"../shared/berlinDistricts.geojson\")\n",
    "measurements = geopandas.read_file(\"data/data_2020-02-20T11-01-00.geojson\")\n",
    "berlinDistricts = berlinDistricts.to_crs(epsg=3068)\n",
    "measurements = measurements.to_crs(epsg=3068)\n",
    "\n",
    "pyplot.rcParams['figure.figsize'] = 30, 20\n",
    "pyplot.rcParams['font.size'] = 20\n",
    "pyplot.rcParams['axes.titlesize'] = 50\n",
    "pyplot.rcParams['axes.titlepad'] = 80\n",
    "\n",
    "berlinPlot = berlinDistricts.boundary.plot(edgecolor=\"black\")\n",
    "berlinPlot.set_title(\"Berlin Districts with Measurements\")\n",
    "\n",
    "measurements.plot(ax=berlinPlot, column=\"value\", legend=True)\n"
   ]
  },
  {
   "cell_type": "code",
   "execution_count": null,
   "metadata": {},
   "outputs": [
    {
     "ename": "Error",
     "evalue": "Jupyter notebook failed to launch. \r\nError: Jupyter server crashed. Unable to connect. \r\nError code from jupyter: 0\nFailed to run jupyter as observable with args notebook --no-browser --notebook-dir=C:\\Users\\Mazel\\AppData\\Local\\Temp\\71421e85-8ad8-441b-b434-86737db70a01 --config=C:\\Users\\Mazel\\AppData\\Local\\Temp\\71421e85-8ad8-441b-b434-86737db70a01\\jupyter_notebook_config.py --NotebookApp.iopub_data_rate_limit=10000000000.0\n",
     "output_type": "error",
     "traceback": [
      "Error: Jupyter notebook failed to launch.",
      "Error: Jupyter server crashed. Unable to connect.",
      "Error code from jupyter: 0",
      "Failed to run jupyter as observable with args notebook --no-browser --notebook-dir=C:\\Users\\Mazel\\AppData\\Local\\Temp\\71421e85-8ad8-441b-b434-86737db70a01 --config=C:\\Users\\Mazel\\AppData\\Local\\Temp\\71421e85-8ad8-441b-b434-86737db70a01\\jupyter_notebook_config.py --NotebookApp.iopub_data_rate_limit=10000000000.0",
      "at E.start (c:\\Users\\Mazel\\.vscode\\extensions\\ms-python.python-2020.2.64397\\out\\client\\extension.js:1:825594)",
      "at runNextTicks (internal/process/task_queues.js:55:5)",
      "at processTimers (internal/timers.js:472:9)"
     ]
    }
   ],
   "source": [
    "berlinPlot.figure.savefig(\"measurements-in-berlin.png\")"
   ]
  },
  {
   "cell_type": "code",
   "execution_count": null,
   "metadata": {},
   "outputs": [
    {
     "ename": "Error",
     "evalue": "Jupyter notebook failed to launch. \r\nError: Jupyter server crashed. Unable to connect. \r\nError code from jupyter: 0\nFailed to run jupyter as observable with args notebook --no-browser --notebook-dir=C:\\Users\\Mazel\\AppData\\Local\\Temp\\71421e85-8ad8-441b-b434-86737db70a01 --config=C:\\Users\\Mazel\\AppData\\Local\\Temp\\71421e85-8ad8-441b-b434-86737db70a01\\jupyter_notebook_config.py --NotebookApp.iopub_data_rate_limit=10000000000.0\n",
     "output_type": "error",
     "traceback": [
      "Error: Jupyter notebook failed to launch.",
      "Error: Jupyter server crashed. Unable to connect.",
      "Error code from jupyter: 0",
      "Failed to run jupyter as observable with args notebook --no-browser --notebook-dir=C:\\Users\\Mazel\\AppData\\Local\\Temp\\71421e85-8ad8-441b-b434-86737db70a01 --config=C:\\Users\\Mazel\\AppData\\Local\\Temp\\71421e85-8ad8-441b-b434-86737db70a01\\jupyter_notebook_config.py --NotebookApp.iopub_data_rate_limit=10000000000.0",
      "at E.start (c:\\Users\\Mazel\\.vscode\\extensions\\ms-python.python-2020.2.64397\\out\\client\\extension.js:1:825594)",
      "at runNextTicks (internal/process/task_queues.js:55:5)",
      "at processTimers (internal/timers.js:472:9)"
     ]
    }
   ],
   "source": [
    "x = measurements.geometry.x\n",
    "y = measurements.geometry.y\n",
    "values = measurements.value\n",
    "\n",
    "xmin, ymin, xmax, ymax = measurements.total_bounds\n",
    "xnew = np.linspace(xmin, xmax, int((xmax-xmin)/100))\n",
    "ynew = np.linspace(ymin, ymax, int((ymax-ymin)/100))\n",
    "\n",
    "interpolator = interpolate.interp2d(x, y, values, kind=\"cubic\")\n",
    "\n",
    "valuesnew = interpolator(xnew, ynew)\n",
    "\n",
    "type(xnew)\n",
    "# valuesnew\n",
    "\n"
   ]
  }
 ]
}