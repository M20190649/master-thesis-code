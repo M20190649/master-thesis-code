{
 "cells": [
  {
   "cell_type": "markdown",
   "metadata": {},
   "source": [
    "# Analysis of `vehicle-zone-tracking.xml`"
   ]
  },
  {
   "cell_type": "code",
   "execution_count": 334,
   "metadata": {
    "tags": []
   },
   "outputs": [],
   "source": [
    "import pprint, math, datetime, os, copy\n",
    "from time import strftime, gmtime\n",
    "from lxml import etree\n",
    "import matplotlib.pyplot as plt\n",
    "import numpy as np\n",
    "from openpyxl import Workbook\n",
    "from openpyxl.styles import Alignment\n",
    "from openpyxl.utils import get_column_letter\n",
    "\n",
    "plt.rcParams[\"figure.figsize\"] = 30, 20\n",
    "plt.rcParams[\"font.size\"] = 20\n",
    "plt.rcParams[\"axes.titlesize\"] = 50\n",
    "plt.rcParams[\"axes.titlepad\"] = 80\n",
    "\n",
    "# scenario = \"berlin-1pct\"\n",
    "# scenario = \"charlottenburg-no-meso-periodic\"\n",
    "# scenario = \"normal-output\"\n",
    "\n",
    "scenarios = [\n",
    "    \"../simulation/performance/traci-n\",\n",
    "    \"../simulation/performance/libsumo-n\",\n",
    "    \"../simulation/performance/traci-meso-n\",\n",
    "    \"../simulation/performance/libsumo-meso-n\",\n",
    "    \"../simulation/performance/traci-rr\",\n",
    "    \"../simulation/performance/libsumo-rr\",\n",
    "    \"../simulation/performance/traci-meso-rr\",\n",
    "    \"../simulation/performance/libsumo-meso-rr\",\n",
    "]\n",
    "\n",
    "# scenario = \"../simulation/performance/traci-n\"\n",
    "# scenario = \"../simulation/performance/libsumo-n\"\n",
    "# scenario = \"../simulation/performance/traci-meso-n\"\n",
    "# scenario = \"../simulation/performance/libsumo-meso-n\"\n",
    "# scenario = \"../simulation/performance/traci-rr\"\n",
    "# scenario = \"../simulation/performance/libsumo-rr\"\n",
    "# scenario = \"../simulation/performance/traci-meso-rr\"\n",
    "# scenario = \"../simulation/performance/libsumo-meso-rr\"\n"
   ]
  },
  {
   "cell_type": "code",
   "execution_count": 324,
   "metadata": {
    "tags": []
   },
   "outputs": [],
   "source": [
    "def get_totals(scenario):\n",
    "    totals = {\n",
    "        \"trips\": 0,\n",
    "        \"persons\": 0,\n",
    "        \"distance\": 0,\n",
    "        \"steps\": 0,\n",
    "        \"sim_time\": 0\n",
    "    }\n",
    "\n",
    "    trips_info_file = f\"{scenario}/output/trips-info.xml\"\n",
    "    persons = []\n",
    "    for event, element in etree.iterparse(trips_info_file, tag=\"tripinfo\"):\n",
    "        totals[\"trips\"] += 1\n",
    "        totals[\"distance\"] += float(element.attrib[\"routeLength\"])\n",
    "\n",
    "        person, counter = element.attrib[\"id\"].split(\"_\")\n",
    "        if person not in persons:\n",
    "            totals[\"persons\"] += 1\n",
    "            persons.append(person)\n",
    "\n",
    "    start_step = -1\n",
    "    end_step = -1\n",
    "    start_sim_time = -1\n",
    "    end_sim_time = -1\n",
    "    vehicle_summary_file = f\"{scenario}/output/vehicle-summary.xml\"\n",
    "    for event, element in etree.iterparse(vehicle_summary_file, tag=\"step\"):\n",
    "        if start_step == -1:\n",
    "            start_step = float(element.attrib[\"time\"])\n",
    "        else:\n",
    "            end_step = float(element.attrib[\"time\"])\n",
    "\n",
    "        if start_sim_time == -1:\n",
    "            start_sim_time = float(element.attrib[\"duration\"])\n",
    "        else:\n",
    "            end_sim_time = float(element.attrib[\"duration\"])\n",
    "\n",
    "    totals[\"steps\"] = end_step - start_step\n",
    "    totals[\"sim_time\"] = end_sim_time - start_sim_time\n",
    "\n",
    "    return totals\n"
   ]
  },
  {
   "cell_type": "code",
   "execution_count": 325,
   "metadata": {
    "scrolled": true,
    "tags": [
     "outputPrepend"
    ]
   },
   "outputs": [
    {
     "output_type": "stream",
     "name": "stdout",
     "text": "    '02': 241.084578911647,\n                 '03': 142.7255265829159},\n '196086401_1': {'01': 545.922376700244},\n '196086401_4': {'01': 138.38598171920646},\n '198421001_2': {'01': 124.21143748082582,\n                 '02': 116.51517339305147,\n                 '03': 821.0951291620887},\n '198865301_2': {'01': 639.8939825736094},\n '199256001_3': {'01': 724.8288269028835,\n                 '02': 187.82173839280406,\n                 '03': 231.05817636552234},\n '199256001_6': {'01': 530.8102479351048,\n                 '02': 189.11286455153444,\n                 '03': 218.07331757962342},\n '201400001_3': {'01': 723.6769019638994,\n                 '02': 409.51648628099315,\n                 '03': 226.35801969640468},\n '201400001_4': {},\n '203869801_5': {'02': 244.16115692925197,\n                 '03': 994.3753973826894,\n                 '04': 719.2720168246899},\n '20728901_4': {'01': 669.250277546526,\n                '02': 206.588349818424,\n                '03': 218.79031893218584},\n '207941101_1': {'01': 1133.5921150400786},\n '20847101_3': {'01': 344.8455990357374,\n                '02': 725.6141170211198,\n                '03': 267.8629948451649},\n '208856301_2': {'01': 818.8485701926462,\n                 '02': 149.48142976909935,\n                 '03': 233.30166464761268},\n '208856301_3': {'01': 971.820432998056,\n                 '02': 145.27794096968802,\n                 '03': 241.58777153739288},\n '211064701_3': {'03': 305.1077276972347, '04': 207.04875942124514},\n '211064701_4': {'01': 249.83854861497426,\n                 '02': 305.60742738012704,\n                 '03': 563.5120200509762},\n '211218501_1': {'01': 1304.4304424377037,\n                 '02': 177.79729006474824,\n                 '03': 148.20601380288872},\n '212363201_1': {'01': 200.672931315242,\n                 '02': 356.10883917485455,\n                 '03': 12.811488308131056},\n '216906901_3': {'01': 608.7992173436267,\n                 '02': 252.97680325551315,\n                 '03': 124.00176625613427},\n '217600501_4': {'01': 1323.2563867656056},\n '217689301_1': {'01': 601.2940344340232},\n '218194201_1': {},\n '218822301_2': {'01': 857.4231667560538},\n '218822301_3': {'01': 193.83839096471326},\n '225051301_4': {'01': 975.4361099607881},\n '225051301_5': {'01': 629.234062791879, '02': 487.0945042945843},\n '225051301_6': {},\n '229095801_7': {},\n '230470401_4': {'01': 1193.5235232892587},\n '231132901_4': {'01': 478.2513666213675,\n                 '02': 213.31869984976515,\n                 '03': 198.3681525685722},\n '231428201_4': {'01': 798.824835195546},\n '236392001_8': {'01': 550.533799237186,\n                 '02': 183.06140970070817,\n                 '03': 211.47486633718503},\n '238872701_3': {'01': 574.770757726336,\n                 '02': 162.94865845450113,\n                 '03': 143.25968649456004},\n '238872701_4': {'01': 551.3385688853145,\n                 '02': 209.59551920596164,\n                 '03': 106.75814817246807},\n '240722601_2': {'01': 651.6841253085863, '02': 227.98335154787824},\n '242853901_4': {'01': 399.9860706196342, '02': 255.5082862944425},\n '242853901_5': {},\n '244256801_1': {'01': 112.76766429860473},\n '244256801_2': {'01': 858.9755004601984,\n                 '02': 137.56112731908416,\n                 '03': 398.83026161202537},\n '244256801_3': {'01': 536.813160957941,\n                 '02': 217.9938580450858,\n                 '03': 466.41213357826945},\n '245750001_3': {'01': 445.7091787018522},\n '246373901_1': {'01': 609.6556651679605},\n '252909601_1': {'01': 551.7322635817604,\n                 '02': 194.89423572871246,\n                 '03': 469.5104245142648},\n '252909601_2': {'01': 201.0040092599021, '02': 348.3068454247676},\n '252909601_3': {'01': 110.6908853431047},\n '252909601_4': {'01': 123.95829902030948},\n '254494501_4': {'01': 664.6791314400616,\n                 '02': 258.46807704720425,\n                 '03': 435.2609194385445},\n '254494501_5': {'01': 595.6615490375967,\n                 '02': 199.85136949251992,\n                 '03': 443.8024361186497},\n '256271501_4': {'01': 299.68841843440885,\n                 '02': 536.2893141435003,\n                 '03': 1073.218677460616},\n '256271501_5': {},\n '256311101_2': {'01': 608.8377035904617},\n '256311101_3': {},\n '260080001_2': {'01': 717.2280033786104,\n                 '02': 211.88092842947546,\n                 '03': 213.3231200428945},\n '263629701_1': {'01': 1298.64591563038,\n                 '02': 279.7552466606024,\n                 '03': 390.73305534626076},\n '265652301_1': {'01': 244.12750006560174},\n '266320201_2': {'01': 713.1649830407142, '02': 126.8845779205365},\n '268694401_3': {'01': 395.99087821440105, '02': 27.301913817568987},\n '270244601_4': {'01': 870.2696047576106},\n '271001501_4': {'01': 804.4449713139862},\n '271534601_5': {},\n '271672001_1': {'01': 1065.5716932594817},\n '271672001_3': {'01': 468.2687755152942},\n '271672001_4': {'01': 235.67149743778725},\n '271672001_5': {'01': 284.03199857782306},\n '274104201_2': {'01': 87.3153278387539},\n '274714701_2': {'01': 629.8054994378799,\n                 '02': 444.79184953794874,\n                 '03': 378.4304617374169},\n '274714701_3': {'01': 160.41544085862716,\n                 '02': 242.7590553480114,\n                 '03': 329.72502166304565},\n '280694901_1': {'01': 711.5176614100682,\n                 '02': 203.75225167800906,\n                 '03': 258.6192531266947},\n '280694901_2': {'01': 153.59525675465113,\n                 '02': 185.908978271045,\n                 '03': 702.183027306937},\n '280694901_3': {'01': 477.96179585090255,\n                 '02': 190.80633040715298,\n                 '03': 216.24391575931259},\n '281847201_3': {},\n '282782101_2': {'01': 471.4257824901465,\n                 '02': 178.9345538414205,\n                 '03': 238.69573910538836},\n '286844201_2': {'01': 334.60849427042365},\n '286844201_7': {'01': 153.0161554849564, '02': 133.7875452565215},\n '287122401_4': {'01': 238.39870951985486},\n '287122401_5': {'01': 133.3917966760557},\n '288372901_1': {'01': 534.5694035719615},\n '288372901_2': {'01': 509.21140376594565},\n '292973901_4': {'01': 488.51574291912743},\n '292973901_5': {},\n '297975501_2': {'01': 1038.7028820975488},\n '304146401_3': {'01': 265.34954599280377},\n '304146401_4': {'01': 825.5366251436893,\n                 '02': 186.56370471154096,\n                 '03': 160.71920799069187},\n '304427001_3': {'01': 592.1067361861927,\n                 '02': 245.7914516509895,\n                 '03': 157.00682163096658},\n '304427001_4': {'01': 183.78011566412096},\n '304427001_5': {'01': 575.1374629681396,\n                 '02': 244.12004362268942,\n                 '03': 250.82286635916861},\n '304427001_6': {'01': 407.4738425919725},\n '304923001_3': {'01': 729.3641710059991},\n '305629201_1': {'01': 329.2521539629864,\n                 '02': 249.78740067600245,\n                 '03': 162.36031698004135},\n '305629201_2': {'01': 352.2983971759427,\n                 '02': 251.24329330276015,\n                 '03': 171.50578918043408},\n '306880101_2': {'01': 511.4529790422829, '02': 311.0547009963245},\n '308507301_2': {'01': 1315.6337537763266,\n                 '02': 188.5697625800517,\n                 '03': 286.6530834260304},\n '308507301_4': {'01': 912.7681694191939,\n                 '02': 215.00819853331706,\n                 '03': 192.68425797701374},\n '308837701_5': {'01': 532.6993085274016,\n                 '02': 268.03603296920244,\n                 '03': 124.85612615353503},\n '310813301_3': {'01': 590.5596243407676},\n '317176301_1': {'01': 600.4378570671142,\n                 '02': 213.13651704934298,\n                 '03': 194.3684433074858},\n '317176301_2': {'01': 532.9615529140725,\n                 '02': 189.33969331991722,\n                 '03': 240.58419053653938},\n '320088201_1': {'01': 557.4257665851356,\n                 '02': 198.97296993304482,\n                 '03': 240.51617917379883},\n '320088201_2': {'01': 527.3612642921788,\n                 '02': 430.9726043548847,\n                 '03': 442.6274661843711},\n '320088201_3': {'01': 311.0279398591284,\n                 '02': 311.8608769676511,\n                 '03': 372.82177568784135},\n '321698101_3': {'01': 1262.2541925517646,\n                 '02': 229.36567428281944,\n                 '03': 254.62938203825118},\n '321863701_10': {'01': 484.63299839172146, '02': 101.0981669322213},\n '321863701_11': {'01': 531.8901751101178,\n                  '02': 203.42699752744306,\n                  '03': 180.76129304237514},\n '324045801_6': {},\n '324282301_4': {'01': 516.3590053709162,\n                 '02': 221.8289141809798,\n                 '03': 157.38862419597504},\n '324282301_5': {'01': 574.8823059481881},\n '324713201_1': {'01': 339.5226535301773},\n '324713201_2': {'01': 128.71605222369556},\n '326572501_1': {'01': 681.1620466996748,\n                 '02': 203.5834921496185,\n                 '03': 248.6722244530373},\n '326572501_4': {'01': 577.4687955701355,\n                 '02': 247.3435402742849,\n                 '03': 131.10797753873354},\n '333817101_4': {},\n '336401_4': {'01': 674.5353335335399,\n              '02': 188.09497223313522,\n              '03': 146.36777443595346},\n '336617601_2': {'01': 590.3044266034651,\n                 '02': 241.5476102101256,\n                 '03': 430.287285282099},\n '337150201_5': {'01': 938.7040700524828,\n                 '02': 196.37522597813017,\n                 '03': 214.11832189358105},\n '337150201_6': {'01': 745.9143648843535,\n                 '02': 290.93526722164376,\n                 '03': 389.05142251709157},\n '340460301_11': {'01': 659.6175818549495,\n                  '02': 199.63640732388248,\n                  '03': 225.60818580894687},\n '348603601_2': {},\n '348603601_4': {'01': 1201.541150956294},\n '350214901_2': {'01': 625.5852729176925,\n                 '02': 193.99328655338488,\n                 '03': 233.59423088011647},\n '353762401_1': {},\n '358119301_4': {'01': 836.4863846529471,\n                 '02': 336.3170153650358,\n                 '03': 466.01832351656856},\n '358119301_5': {},\n '358609101_5': {'01': 830.4911943199262},\n '358609101_6': {'01': 135.16448473407797},\n '359270901_3': {'01': 395.2798065140354,\n                 '02': 245.11998801037876,\n                 '03': 161.49053951718315},\n '359604101_3': {},\n '360035101_4': {'01': 848.273950636017,\n                 '02': 163.0069297026347,\n                 '03': 164.50079595697943},\n '360375701_3': {},\n '360375701_4': {},\n '360580801_2': {'01': 168.33475176199585},\n '360580801_3': {'01': 790.2856653616712, '02': 1329.3209054315882},\n '361697501_3': {'01': 611.7453253068347,\n                 '02': 256.1646240334498,\n                 '03': 125.26536951752674},\n '361697501_5': {'01': 510.34765311069185,\n                 '02': 207.47658485754187,\n                 '03': 356.2212727007947},\n '361697501_6': {'01': 167.64094676891088},\n '362570401_1': {'01': 588.6866618451241},\n '367764901_3': {'01': 600.0873572645055},\n '367764901_5': {},\n '368390101_3': {},\n '370453301_1': {'01': 598.8180081322187},\n '371352301_2': {'01': 1262.619164763775},\n '374008301_1': {'01': 658.8977889230465,\n                 '02': 221.61239037770787,\n                 '03': 207.92935847804418},\n '374008301_9': {'01': 539.1660362150769,\n                 '02': 198.82366892395981,\n                 '03': 214.849384375369},\n '374995101_1': {'01': 384.14197283861716,\n                 '02': 249.56451932771813,\n                 '03': 119.14087213805118},\n '377132501_2': {'01': 426.5430606448819,\n                 '02': 228.74007218079893,\n                 '03': 387.9996827200661},\n '377132501_3': {'01': 493.16693895413863, '02': 37.66139648209791},\n '377132501_4': {},\n '377278201_7': {'01': 537.2438433160983,\n                 '02': 201.31629803114447,\n                 '03': 208.487851298184},\n '378398801_4': {'01': 611.8126633709177, '02': 80.61189865991234},\n '379338201_4': {'01': 399.90090027375595},\n '382530301_2': {'01': 1117.1437402403271, '02': 569.9777963705538},\n '382530301_3': {},\n '384752301_3': {'01': 1212.2511447336944},\n '385676601_5': {'01': 666.5524853856739,\n                 '02': 275.7267915278084,\n                 '03': 86.17771016351486},\n '385676601_6': {},\n '386088201_1': {'01': 276.3055769748172},\n '386088201_4': {'01': 833.7363227652037,\n                 '02': 879.5168693411672,\n                 '03': 569.9778818026522},\n '386088201_5': {},\n '386187501_1': {'01': 390.2214079103264,\n                 '02': 282.87886258288785,\n                 '03': 377.58217006067633},\n '386187501_2': {'01': 547.1078632842466,\n                 '02': 229.7908492195447,\n                 '03': 12.635308919491749},\n '386187501_3': {'01': 375.40627871272966,\n                 '02': 288.70997914769293,\n                 '03': 38.95280489263551},\n '386187501_4': {'01': 524.0167705569268,\n                 '02': 410.6306653585895,\n                 '03': 120.79104605090684},\n '386187501_5': {'01': 172.0822772109208,\n                 '02': 278.98979351100513,\n                 '03': 439.9619926341692},\n '386187501_6': {'01': 176.40729688347412,\n                 '02': 409.67006087320016,\n                 '03': 408.27288166480037},\n '386993401_7': {},\n '388881801_10': {'01': 193.91523185165119},\n '388881801_9': {'01': 371.55473238417215},\n '390696701_1': {},\n '390696701_2': {},\n '392608101_6': {'01': 892.3568455557112,\n                 '02': 192.6011141416185,\n                 '03': 159.31131276027278},\n '392608101_7': {'01': 573.3445832483023,\n                 '02': 236.49999141806677,\n                 '03': 94.23886547184776},\n '393150201_5': {'01': 403.39691824105364},\n '393150201_6': {'01': 1026.002206189384,\n                 '02': 187.5802808630298,\n                 '03': 240.36470105503568},\n '393176401_3': {'01': 447.748177038413,\n                 '02': 272.32787712196574,\n                 '03': 192.38990470981886},\n '393440901_4': {'01': 595.7935930309761,\n                 '02': 287.73504148407056,\n                 '03': 477.8023953981424},\n '394841901_2': {},\n '394841901_4': {'01': 763.8735676449224,\n                 '02': 192.4607436687346,\n                 '03': 145.67339178325935},\n '395188601_5': {'01': 520.4574172345443,\n                 '02': 228.20617036852585,\n                 '03': 151.43609970980236},\n '399267601_1': {'01': 878.5570077472202,\n                 '02': 196.90652007585595,\n                 '03': 282.3718867504027},\n '402845501_2': {'01': 248.135635458878,\n                 '02': 311.13512934069394,\n                 '03': 62.43259694831199},\n '405699301_2': {'01': 660.7153788790782},\n '406312801_4': {'01': 198.20788206516693, '02': 165.72852502446332},\n '406650401_2': {'01': 1161.5343152478918},\n '407330201_8': {},\n '407330201_9': {},\n '407833701_1': {'01': 692.1171658415265},\n '409093401_6': {'01': 778.0545505600634},\n '413953901_7': {'01': 687.4614316714606,\n                 '02': 202.1357627297599,\n                 '03': 232.59965610292411},\n '417189701_2': {'01': 709.4864478795871,\n                 '02': 197.4448290245956,\n                 '03': 255.70099508480465},\n '418703201_3': {'01': 8.246986195993546},\n '418703201_6': {'01': 519.580497318599,\n                 '02': 222.6836410449857,\n                 '03': 397.9448508360851},\n '418703201_7': {'01': 413.07366834728487, '02': 37.49059524997138},\n '419181901_2': {'01': 828.1533280956139},\n '419270001_4': {'01': 785.8517071727601,\n                 '02': 186.22430425457895,\n                 '03': 280.27878799559676},\n '419270001_5': {'01': 565.1174464760026,\n                 '02': 251.1609589254336,\n                 '03': 129.37143437588685},\n '421017301_5': {},\n '422324001_4': {'01': 1066.982856311472,\n                 '02': 512.5588954651373,\n                 '03': 437.4933413648001},\n '422425701_8': {'01': 142.49797853759299},\n '422555101_1': {},\n '422769701_7': {},\n '423287601_3': {'01': 465.8423966084887},\n '426191701_6': {'01': 568.8873284041346,\n                 '02': 151.3447996027404,\n                 '03': 302.53107619662745},\n '426768101_1': {'01': 167.2489160109083},\n '426768101_2': {'01': 360.2721105552076},\n '426768101_3': {'01': 954.5110054146755,\n                 '02': 211.27115471056428,\n                 '03': 334.64324759833323},\n '426768101_4': {'01': 675.5078735691579,\n                 '02': 203.67580351685015,\n                 '03': 352.29241858185645},\n '427305301_6': {},\n '429185801_4': {'01': 576.1094595956193,\n                 '02': 268.7022966463849,\n                 '03': 95.5638718187725},\n '431617501_3': {'01': 531.2470004102988,\n                 '02': 254.56440037891383,\n                 '03': 136.18080341677833},\n '435181001_2': {'01': 613.9888896142492,\n                 '02': 335.8853728319278,\n                 '03': 365.87913447541223},\n '435606701_3': {'01': 492.8842557534615,\n                 '02': 205.94575461940852,\n                 '03': 226.9789827323919},\n '436246701_4': {'01': 556.9973079037229,\n                 '02': 417.06482421743357,\n                 '03': 332.02360432369153},\n '436246701_5': {},\n '437656301_1': {'01': 226.78910305453275},\n '437656301_2': {'01': 401.74944277454443},\n '438315601_4': {'01': 811.5905708277902,\n                 '02': 193.95594271336708,\n                 '03': 278.82112182043295},\n '438619701_3': {'01': 257.5143960911988},\n '438619701_4': {'01': 915.9545756887746},\n '438619701_5': {'01': 500.514670238692},\n '438619701_6': {'01': 70.41694472038475},\n '440669701_5': {'01': 232.25583423716228},\n '442123301_3': {'01': 173.6073515520991,\n                 '02': 282.89998510712104,\n                 '03': 447.524654231016},\n '442123301_4': {'01': 428.7288740322873,\n                 '02': 491.8833109628491,\n                 '03': 347.5464371156446},\n '442123301_8': {'01': 315.3618087627642,\n                 '02': 259.1311347373583,\n                 '03': 143.65178528855856},\n '442569701_4': {'01': 528.6027371225406,\n                 '02': 209.28190082767114,\n                 '03': 203.3022570401068},\n '443847801_1': {'01': 342.3046801050158,\n                 '02': 255.536546783581,\n                 '03': 207.4055870363786},\n '443847801_2': {'01': 375.6706086780073,\n                 '02': 260.8073902753574,\n                 '03': 185.73623023543965},\n '447204001_4': {'01': 656.2391392634186},\n '448717201_2': {},\n '450094301_2': {'01': 749.4941178144264,\n                 '02': 256.3015334151861,\n                 '03': 249.1010590770705},\n '450452501_4': {'01': 10.053024110547266},\n '450466701_4': {},\n '450527901_1': {'01': 606.4460786526661,\n                 '02': 217.91027657110484,\n                 '03': 186.54843678047328},\n '451849501_2': {'01': 383.3162778931681},\n '456138201_3': {},\n '456138201_4': {},\n '456138201_5': {'01': 1299.1318311616778},\n '456424601_3': {},\n '457153601_3': {'01': 186.9741233148865},\n '458777201_4': {'01': 694.4519531051742,\n                 '02': 206.21197559150016,\n                 '03': 220.72101491035772},\n '49878701_3': {'01': 475.03178957950274},\n '52495801_3': {},\n '61641301_3': {'01': 1293.0545919088374,\n                '02': 191.47088228445506,\n                '03': 169.91475725060502},\n '61641301_4': {'01': 807.3973215976789,\n                '02': 194.69984475339504,\n                '03': 166.36069735216728},\n '66184101_6': {'01': 578.8016056503108,\n                '02': 214.95434293713217,\n                '03': 162.9995088291444},\n '83283901_2': {'01': 193.46248826684194},\n '84173701_5': {'01': 584.4655715015987,\n                '02': 198.02116848248247,\n                '03': 209.25951873063394},\n '89557901_2': {'01': 975.6811445900474,\n                '02': 205.96259256299766,\n                '03': 385.2848456058083},\n '89557901_3': {'01': 792.0151081928096,\n                '02': 371.21548075961107,\n                '03': 401.76355327776173},\n '89557901_4': {'01': 633.250520075119,\n                '02': 297.8163475351737,\n                '03': 365.4675727024985},\n '89557901_5': {'01': 649.3200085136372,\n                '02': 207.7168986605595,\n                '03': 339.44288005715964}}\n"
    }
   ],
   "source": [
    "# Distances in every zone for each trip\n",
    "def get_distances_pt(scenario, freeze_zones=False):\n",
    "    file_path = f\"{scenario}/output/vehicle-zone-tracking.xml\"\n",
    "    distances_per_zone = {}\n",
    "  \n",
    "    for event, element in etree.iterparse(file_path, tag=\"timestep\"):\n",
    "        current_zone_timestep = element.attrib[\"zone-timestep\"]\n",
    "\n",
    "        for vehicle in element.getchildren():\n",
    "            vid = vehicle.attrib[\"id\"]\n",
    "            speed = float(vehicle.attrib[\"speed\"])\n",
    "            v_timestep = vehicle.attrib[\"zone-timestep\"]\n",
    "\n",
    "            distances = {}\n",
    "            if vid in distances_per_zone:\n",
    "                distances = distances_per_zone[vid]\n",
    "\n",
    "            for polygon in vehicle.getchildren():\n",
    "                pid_parts = polygon.attrib[\"id\"].split(\"_\")\n",
    "                pid = pid_parts[0]\n",
    "                p_timestep = pid_parts[1]\n",
    "\n",
    "                if freeze_zones:\n",
    "                    if p_timestep != v_timestep:\n",
    "                        continue\n",
    "                else:\n",
    "                    if p_timestep != current_zone_timestep:\n",
    "                        continue\n",
    "\n",
    "                if pid.startswith(\"hole\"):\n",
    "                    hole, hole_counter, zone, polygon_counter = pid.split(\"-\")\n",
    "                    if zone in distances:\n",
    "                        distances[zone] -= speed\n",
    "                    else:\n",
    "                        distances[zone] = -speed\n",
    "                else:\n",
    "                    zone, polygon_counter = pid.split(\"-\")\n",
    "                    if zone in distances:\n",
    "                        distances[zone] += speed\n",
    "                    else:\n",
    "                        distances[zone] = speed\n",
    "            \n",
    "            distances_per_zone[vid] = distances\n",
    "\n",
    "        element.clear()\n",
    "\n",
    "    return distances_per_zone\n",
    "\n",
    "distances_pt = get_distances_pt(scenarios[0])\n",
    "pprint.pprint(distances_pt)"
   ]
  },
  {
   "cell_type": "code",
   "execution_count": 326,
   "metadata": {
    "tags": []
   },
   "outputs": [
    {
     "output_type": "stream",
     "name": "stdout",
     "text": "374008301\n{'01': 1198.0638251381233, '02': 420.4360593016677, '03': 422.7787428534132}\n\n{'01': 658.8977889230465, '02': 221.61239037770787, '03': 207.92935847804418}\n{'01': 539.1660362150769, '02': 198.82366892395981, '03': 214.849384375369}\n"
    }
   ],
   "source": [
    "def get_distances_pp(distances_pt):\n",
    "    distances_pp = {}\n",
    "\n",
    "    for trip in distances_pt:\n",
    "        person, counter = trip.split(\"_\")\n",
    "        trip_distances = distances_pt[trip]\n",
    "        \n",
    "        if person in distances_pp:\n",
    "            person_distances = distances_pp[person]\n",
    "\n",
    "            for zone in trip_distances:\n",
    "                if zone in person_distances:\n",
    "                    person_distances[zone] += trip_distances[zone]\n",
    "                else:\n",
    "                    person_distances[zone] = trip_distances[zone]\n",
    "                    \n",
    "            distances_pp[person] = person_distances\n",
    "\n",
    "        else:\n",
    "            distances_pp[person] = copy.deepcopy(trip_distances)\n",
    "    \n",
    "    return distances_pp\n",
    "\n",
    "distances_pt = get_distances_pt(scenarios[0])\n",
    "distances_pp = get_distances_pp(distances_pt)\n",
    "# pprint.pprint(distances_pp)\n",
    "\n",
    "x = list(distances_pp.keys())[25]\n",
    "print(x)\n",
    "pprint.pprint(distances_pp[x])\n",
    "print()\n",
    "for t in distances_pt:\n",
    "    if t.startswith(x):\n",
    "        pprint.pprint(distances_pt[t])"
   ]
  },
  {
   "cell_type": "markdown",
   "metadata": {},
   "source": [
    "### Total trips per zone"
   ]
  },
  {
   "cell_type": "code",
   "execution_count": 327,
   "metadata": {
    "tags": []
   },
   "outputs": [
    {
     "output_type": "stream",
     "name": "stdout",
     "text": "{'01': 239, '02': 153, '03': 138, '04': 2}\n"
    }
   ],
   "source": [
    "def get_trips_pz(distances_pt):\n",
    "    trips_pz = {}\n",
    "\n",
    "    for trip in distances_pt:\n",
    "        distances_pz = distances_pt[trip]\n",
    "        for zone in distances_pz:\n",
    "            if zone in trips_pz:\n",
    "                trips_pz[zone] += 1\n",
    "            else:\n",
    "                trips_pz[zone] = 1\n",
    "    \n",
    "    return trips_pz\n",
    "\n",
    "distances_pt = get_distances_pt(scenarios[0])\n",
    "trips_pz = get_trips_pz(distances_pt)\n",
    "pprint.pprint(trips_pz)"
   ]
  },
  {
   "cell_type": "markdown",
   "metadata": {},
   "source": [
    "### Total persons per zone"
   ]
  },
  {
   "cell_type": "code",
   "execution_count": 328,
   "metadata": {
    "tags": []
   },
   "outputs": [
    {
     "output_type": "stream",
     "name": "stdout",
     "text": "{'01': 165, '02': 113, '03': 101, '04': 2}\n"
    }
   ],
   "source": [
    "def get_persons_pz(distances_pp):\n",
    "    persons_pz = {}\n",
    "\n",
    "    for person in distances_pp:\n",
    "        distances = distances_pp[person]\n",
    "        for zone in distances:\n",
    "            if zone in persons_pz:\n",
    "                if person not in persons_pz[zone]:\n",
    "                    persons_pz[zone].append(person)\n",
    "            else:\n",
    "                persons_pz[zone] = [person]\n",
    "\n",
    "    for zone in persons_pz:\n",
    "        persons_pz[zone] = len(persons_pz[zone])\n",
    "\n",
    "    return persons_pz\n",
    "\n",
    "distances_pt = get_distances_pt(scenarios[0])\n",
    "distances_pp = get_distances_pp(distances_pt)\n",
    "persons_pz = get_persons_pz(distances_pp)\n",
    "pprint.pprint(persons_pz)"
   ]
  },
  {
   "cell_type": "code",
   "execution_count": 329,
   "metadata": {
    "tags": []
   },
   "outputs": [
    {
     "output_type": "stream",
     "name": "stdout",
     "text": "{'01': 135.1671107737726,\n '02': 38.9876011379387,\n '03': 37.82092669473563,\n '04': 0.926320776245935}\n"
    }
   ],
   "source": [
    "def get_distances_pz(distances_pt):\n",
    "    distances_pz = {}\n",
    "\n",
    "    for trip in distances_pt:\n",
    "        trip_distances = distances_pt[trip]\n",
    "        for zone in trip_distances:\n",
    "            if zone in distances_pz:\n",
    "                distances_pz[zone] += trip_distances[zone] / 1000\n",
    "            else:\n",
    "                distances_pz[zone] = trip_distances[zone] / 1000\n",
    "\n",
    "    return distances_pz\n",
    "\n",
    "distances_pt = get_distances_pt(scenarios[0])\n",
    "distances_pz = get_distances_pz(distances_pt)\n",
    "pprint.pprint(distances_pz)"
   ]
  },
  {
   "cell_type": "markdown",
   "metadata": {},
   "source": [
    "### Average distance per zone per trip"
   ]
  },
  {
   "cell_type": "code",
   "execution_count": 330,
   "metadata": {
    "tags": []
   },
   "outputs": [
    {
     "output_type": "stream",
     "name": "stdout",
     "text": "{'01': 565.5527647438188,\n '02': 254.82092247018753,\n '03': 274.06468619373635,\n '04': 463.1603881229675}\n"
    }
   ],
   "source": [
    "def get_avg_distances_pz_pt(distances_pt):\n",
    "    avg_distances_pz_pt = {}\n",
    "\n",
    "    for trip in distances_pt:\n",
    "        distances_pz = distances_pt[trip]\n",
    "        for zone in distances_pz:\n",
    "            if zone in avg_distances_pz_pt:\n",
    "                avg_distances_pz_pt[zone][\"distance\"] += distances_pz[zone]\n",
    "                avg_distances_pz_pt[zone][\"n\"] += 1\n",
    "            else:\n",
    "                avg_distances_pz_pt[zone] = {\n",
    "                    \"distance\": distances_pz[zone],\n",
    "                    \"n\": 1\n",
    "                }\n",
    "\n",
    "    for zone in avg_distances_pz_pt:\n",
    "        avg_distances_pz_pt[zone] = avg_distances_pz_pt[zone][\"distance\"] / avg_distances_pz_pt[zone][\"n\"]\n",
    "    \n",
    "    return avg_distances_pz_pt\n",
    "\n",
    "distances_pt = get_distances_pt(scenarios[0])\n",
    "avg_distances_pz_pt = get_avg_distances_pz_pt(distances_pt)\n",
    "pprint.pprint(avg_distances_pz_pt)"
   ]
  },
  {
   "cell_type": "markdown",
   "metadata": {},
   "source": [
    "### Average distance per zone per person"
   ]
  },
  {
   "cell_type": "code",
   "execution_count": 331,
   "metadata": {
    "tags": []
   },
   "outputs": [
    {
     "output_type": "stream",
     "name": "stdout",
     "text": "{'01': 819.1946107501367,\n '02': 345.0230189198114,\n '03': 374.46462073995673,\n '04': 463.1603881229675}\n"
    }
   ],
   "source": [
    "def get_avg_distances_pz_pp(distances_pp):\n",
    "\n",
    "    avg_distances_pz_pp = {}\n",
    "\n",
    "    for person in distances_pp:\n",
    "        person_distances = distances_pp[person]\n",
    "        for zone in person_distances:\n",
    "            if zone in avg_distances_pz_pp:\n",
    "                avg_distances_pz_pp[zone][\"distance\"] += person_distances[zone]\n",
    "                avg_distances_pz_pp[zone][\"n\"] += 1\n",
    "            else:\n",
    "                avg_distances_pz_pp[zone] = {\n",
    "                    \"distance\": person_distances[zone],\n",
    "                    \"n\": 1\n",
    "                }\n",
    "\n",
    "    for zone in avg_distances_pz_pp:\n",
    "        avg_distances_pz_pp[zone] = avg_distances_pz_pp[zone][\"distance\"] / avg_distances_pz_pp[zone][\"n\"]\n",
    "\n",
    "    return avg_distances_pz_pp\n",
    "\n",
    "distances_pt = get_distances_pt(scenarios[0])\n",
    "distances_pp = get_distances_pp(distances_pt)\n",
    "avg_distances_pz_pp = get_avg_distances_pz_pp(distances_pp)\n",
    "pprint.pprint(avg_distances_pz_pp)"
   ]
  },
  {
   "cell_type": "code",
   "execution_count": 342,
   "metadata": {
    "tags": []
   },
   "outputs": [
    {
     "output_type": "stream",
     "name": "stdout",
     "text": "Scenario\ntraci-n\nTotal trips\n1217\nTotal persons\n584\nTotal distance\n3740970.910000002\nTotal steps\n86729.0\nTotal simulation time\n249.606 s\nTotal trips per zone\nZone 01: 239\nZone 02: 153\nZone 03: 138\nZone 04: 2\n\nTotal persons per zone\nZone 01: 165\nZone 02: 113\nZone 03: 101\nZone 04: 2\n\nTotal distances per zone\nZone 01: 135.167 km\nZone 02: 38.988 km\nZone 03: 37.821 km\nZone 04: 0.926 km\n\nAverage distance per zone per trip\nZone 01: 565.553 m\nZone 02: 254.821 m\nZone 03: 274.065 m\nZone 04: 463.160 m\n\nAverage distance per zone per person\nZone 01: 819.195 m\nZone 02: 345.023 m\nZone 03: 374.465 m\nZone 04: 463.160 m\n\n"
    }
   ],
   "source": [
    "wb = Workbook()\n",
    "ws = wb.active\n",
    "write_header = True\n",
    "\n",
    "header = []\n",
    "row = []\n",
    "\n",
    "def add(label, value):\n",
    "    print(label)\n",
    "    print(value)\n",
    "\n",
    "    if write_header:\n",
    "        header.append(label)\n",
    "\n",
    "    row.append(value)\n",
    "\n",
    "for s in scenarios[:1]:\n",
    "    header = []\n",
    "    row = []\n",
    "\n",
    "    add(\"Scenario\", os.path.basename(s))\n",
    "\n",
    "    totals = get_totals(s)\n",
    "    add(\"Total trips\", totals[\"trips\"])\n",
    "    add(\"Total persons\", totals[\"persons\"])\n",
    "    add(\"Total distance\", totals[\"distance\"])\n",
    "    add(\"Total steps\", totals[\"steps\"])\n",
    "    add(\"Total simulation time\", f\"{format(totals['sim_time'] / 1000, '.3f')} s\")\n",
    "\n",
    "    distances_pt = get_distances_pt(s)\n",
    "    distances_pp = get_distances_pp(distances_pt)\n",
    "\n",
    "    trips_pz = get_trips_pz(distances_pt)\n",
    "    s = \"\"\n",
    "    for zone in trips_pz:\n",
    "        s += f\"Zone {zone}: {trips_pz[zone]}\\n\"\n",
    "    add(\"Total trips per zone\", s)\n",
    "\n",
    "    persons_pz = get_persons_pz(distances_pp)\n",
    "    s = \"\"\n",
    "    for zone in persons_pz:\n",
    "        s += f\"Zone {zone}: {persons_pz[zone]}\\n\"\n",
    "    add(\"Total persons per zone\", s)\n",
    "\n",
    "    distances_pz = get_distances_pz(distances_pp)\n",
    "    s = \"\"\n",
    "    for zone in distances_pz:\n",
    "        s += f\"Zone {zone}: {format(distances_pz[zone], '.3f')} km\\n\"\n",
    "    add(\"Total distances per zone\", s)\n",
    "\n",
    "    avg_distances_pz_pt = get_avg_distances_pz_pt(distances_pt)\n",
    "    s = \"\"\n",
    "    for zone in avg_distances_pz_pt:\n",
    "        s += f\"Zone {zone}: {format(avg_distances_pz_pt[zone], '.3f')} m\\n\"\n",
    "    add(\"Average distance per zone per trip\", s)\n",
    "\n",
    "    avg_distances_pz_pp = get_avg_distances_pz_pp(distances_pp)\n",
    "    s = \"\"\n",
    "    for zone in avg_distances_pz_pp:\n",
    "        s += f\"Zone {zone}: {format(avg_distances_pz_pp[zone], '.3f')} m\\n\"\n",
    "    add(\"Average distance per zone per person\", s)\n",
    "\n",
    "\n",
    "    if write_header:\n",
    "        ws.append(header)\n",
    "        write_header = False\n",
    "\n",
    "    \n",
    "    ws.append(row)\n",
    "\n",
    "for row in ws.iter_rows():  \n",
    "    for cell in row:      \n",
    "        cell.alignment = Alignment(wrapText=True,vertical='top') \n",
    "\n",
    "for i, column_cells in enumerate(ws.columns, start=1):\n",
    "    ws.column_dimensions[get_column_letter(i)].width = 40\n",
    "\n",
    "for i, row in enumerate(ws.rows, start=1):\n",
    "    ws.row_dimensions[i].height = 75\n",
    "\n",
    "wb.save(\"sample.xlsx\")\n"
   ]
  }
 ],
 "metadata": {
  "file_extension": ".py",
  "kernelspec": {
   "display_name": "Python 3",
   "language": "python",
   "name": "python3"
  },
  "language_info": {
   "codemirror_mode": {
    "name": "ipython",
    "version": 3
   },
   "file_extension": ".py",
   "mimetype": "text/x-python",
   "name": "python",
   "nbconvert_exporter": "python",
   "pygments_lexer": "ipython3",
   "version": "3.8.3-final"
  },
  "mimetype": "text/x-python",
  "name": "python",
  "npconvert_exporter": "python",
  "pygments_lexer": "ipython3",
  "version": 3
 },
 "nbformat": 4,
 "nbformat_minor": 2
}