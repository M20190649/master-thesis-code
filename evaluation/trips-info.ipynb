{
 "cells": [
  {
   "cell_type": "markdown",
   "metadata": {},
   "source": [
    "# Analysis of `trips-info.xml`"
   ],
   "execution_count": null,
   "outputs": []
  },
  {
   "cell_type": "code",
   "execution_count": 1,
   "metadata": {
    "scrolled": true
   },
   "outputs": [],
   "source": [
    "import pprint\n",
    "import matplotlib.pyplot as plt\n",
    "import numpy as np\n",
    "from parsers.trips_info import get_trips\n",
    "\n",
    "normal = \"normal-output\"\n",
    "n_trips = get_trips(f\"{normal}/trips-info.xml\")\n",
    "\n",
    "scenarios = [\"apats-output\"]\n",
    "scenario_data = {}\n",
    "\n",
    "for s in scenarios:\n",
    "    trips = get_trips(f\"{s}/trips-info.xml\")\n",
    "    scenario_data[s] = trips"
   ]
  },
  {
   "cell_type": "markdown",
   "metadata": {},
   "source": [
    "### Mean distance and duration comparison for all vehicles"
   ],
   "execution_count": null,
   "outputs": []
  },
  {
   "cell_type": "code",
   "execution_count": 5,
   "metadata": {},
   "outputs": [
    {
     "output_type": "stream",
     "name": "stdout",
     "text": "Distance\nnormal-output: 2.9940531725265735\napats-output: 3.5280345625511043\nDifference: 0.5339813900245304 \n\nDuration\nnormal-output: 6.249727446170619\napats-output: 7.514690651403653\nDifference: 1.2649632052330342 \n\n"
    }
   ],
   "source": [
    "def mean_comparison():\n",
    "    n_distances = np.array(list(map(lambda t: t[\"routeLength\"], n_trips)))\n",
    "    n_durations = np.array(list(map(lambda t: t[\"duration\"], n_trips)))\n",
    "\n",
    "    for s in scenarios:\n",
    "        trips = scenario_data[s]\n",
    "        distances = np.array(list(map(lambda t: t[\"routeLength\"], trips)))\n",
    "        durations = np.array(list(map(lambda t: t[\"duration\"], trips)))\n",
    "        print(\"Distance\")\n",
    "        print(f\"{normal}:\", n_distances.mean() / 1000)\n",
    "        print(f\"{s}:\", distances.mean() / 1000)\n",
    "        print(\"Difference:\", (distances.mean() - n_distances.mean()) / 1000, \"\\n\")\n",
    "\n",
    "        print(\"Duration\")\n",
    "        print(f\"{normal}:\", n_durations.mean() / 60)\n",
    "        print(f\"{s}:\", durations.mean() / 60)\n",
    "        print(\"Difference:\", (durations.mean() - n_durations.mean()) / 60, \"\\n\")\n",
    "\n",
    "mean_comparison()"
   ]
  },
  {
   "cell_type": "markdown",
   "metadata": {},
   "source": [
    "### Mean distance/duration comparison only for rerouted vehicles"
   ],
   "execution_count": null,
   "outputs": []
  },
  {
   "cell_type": "code",
   "execution_count": 6,
   "metadata": {},
   "outputs": [
    {
     "output_type": "stream",
     "name": "stdout",
     "text": "Distance\nnormal-output: 3.723337022332506\napats-output: 5.343833325062035\nDifference: 1.6204963027295294 \n\nDuration\nnormal-output: 7.570140612076096\napats-output: 11.395781637717123\nDifference: 3.8256410256410267 \n\n"
    }
   ],
   "source": [
    "def mean_comparison_rr():\n",
    "    for s in scenarios:\n",
    "        trips = scenario_data[s]\n",
    "\n",
    "        rr_trips = list(filter(lambda t: t[\"rerouteNo\"] > 0, trips))\n",
    "        rr_distances = np.array(list(map(lambda t: t[\"routeLength\"], rr_trips)))\n",
    "        rr_durations = np.array(list(map(lambda t: t[\"duration\"], rr_trips)))\n",
    "\n",
    "        rr_ids = list(map(lambda t: t[\"id\"], rr_trips))\n",
    "        filtered_n_trips = list(filter(lambda t: t[\"id\"] in rr_ids, n_trips))\n",
    "        n_distances = np.array(list(map(lambda t: t[\"routeLength\"], filtered_n_trips)))\n",
    "        n_durations = np.array(list(map(lambda t: t[\"duration\"], filtered_n_trips)))\n",
    "\n",
    "        print(\"Distance\")\n",
    "        print(f\"{normal}:\", n_distances.mean() / 1000)\n",
    "        print(f\"{s}:\", rr_distances.mean() / 1000)\n",
    "        print(\"Difference:\", (rr_distances.mean() - n_distances.mean()) / 1000, \"\\n\")\n",
    "\n",
    "        print(\"Duration\")\n",
    "        print(f\"{normal}:\", n_durations.mean() / 60)\n",
    "        print(f\"{s}:\", rr_durations.mean() / 60)\n",
    "        print(\"Difference:\", (rr_durations.mean() - n_durations.mean()) / 60, \"\\n\")\n",
    "\n",
    "mean_comparison_rr()"
   ]
  },
  {
   "cell_type": "markdown",
   "metadata": {},
   "source": [
    "### Additional distance/duration for rerouted vehicles"
   ],
   "execution_count": null,
   "outputs": []
  },
  {
   "cell_type": "code",
   "execution_count": 7,
   "metadata": {
    "tags": [
     "outputPrepend",
     "outputPrepend",
     "outputPrepend",
     "outputPrepend",
     "outputPrepend",
     "outputPrepend",
     "outputPrepend",
     "outputPrepend",
     "outputPrepend",
     "outputPrepend",
     "outputPrepend",
     "outputPrepend",
     "outputPrepend",
     "outputPrepend",
     "outputPrepend",
     "outputPrepend",
     "outputPrepend",
     "outputPrepend",
     "outputPrepend",
     "outputPrepend",
     "outputPrepend",
     "outputPrepend",
     "outputPrepend",
     "outputPrepend",
     "outputPrepend",
     "outputPrepend",
     "outputPrepend",
     "outputPrepend",
     "outputPrepend",
     "outputPrepend",
     "outputPrepend",
     "outputPrepend",
     "outputPrepend",
     "outputPrepend",
     "outputPrepend",
     "outputPrepend",
     "outputPrepend",
     "outputPrepend"
    ]
   },
   "outputs": [
    {
     "output_type": "stream",
     "name": "stdout",
     "text": "Avg additional distance: 1.6204963027295285 km\nAvg additional duration: 3.825641025641026 mins\n"
    }
   ],
   "source": [
    "def additional_mean_comparison_rr():\n",
    "    for s in scenarios:\n",
    "        trips = scenario_data[s]\n",
    "\n",
    "        rr_trips = list(filter(lambda t: t[\"rerouteNo\"] > 0, trips))\n",
    "        rr_distances = np.array(list(map(lambda t: t[\"routeLength\"], rr_trips)))\n",
    "        rr_durations = np.array(list(map(lambda t: t[\"duration\"], rr_trips)))\n",
    "\n",
    "        rr_ids = list(map(lambda t: t[\"id\"], rr_trips))\n",
    "        filtered_n_trips = list(filter(lambda t: t[\"id\"] in rr_ids, n_trips))\n",
    "        n_ids = list(map(lambda t: t[\"id\"], filtered_n_trips))\n",
    "\n",
    "        additional_distances = []\n",
    "        additional_durations = []\n",
    "        for t in rr_trips:\n",
    "            nt = list(filter(lambda nt: t[\"id\"] == nt[\"id\"], filtered_n_trips))[0]\n",
    "            additional_distances.append(t[\"routeLength\"] - nt[\"routeLength\"])\n",
    "            additional_durations.append(t[\"duration\"] - nt[\"duration\"])\n",
    "\n",
    "        additional_distances = np.array(additional_distances)\n",
    "        additional_durations = np.array(additional_durations)\n",
    "        \n",
    "        print(\"Avg additional distance:\", additional_distances.mean() / 1000, \"km\")\n",
    "        print(\"Avg additional duration:\", additional_durations.mean() / 60, \"mins\")\n",
    "\n",
    "additional_mean_comparison_rr()"
   ]
  }
 ],
 "metadata": {
  "file_extension": ".py",
  "kernelspec": {
   "display_name": "Python 3",
   "language": "python",
   "name": "python3"
  },
  "language_info": {
   "codemirror_mode": {
    "name": "ipython",
    "version": 3
   },
   "file_extension": ".py",
   "mimetype": "text/x-python",
   "name": "python",
   "nbconvert_exporter": "python",
   "pygments_lexer": "ipython3",
   "version": "3.8.2-final"
  },
  "mimetype": "text/x-python",
  "name": "python",
  "npconvert_exporter": "python",
  "pygments_lexer": "ipython3",
  "version": 3
 },
 "nbformat": 4,
 "nbformat_minor": 2
}