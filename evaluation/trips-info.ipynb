{
 "cells": [
  {
   "cell_type": "markdown",
   "metadata": {},
   "source": [
    "# Analysis of `trips-info.xml`"
   ]
  },
  {
   "cell_type": "code",
   "execution_count": null,
   "metadata": {},
   "outputs": [],
   "source": [
    "import pprint\n",
    "from lxml import etree\n",
    "import matplotlib.pyplot as plt\n",
    "import numpy as np\n",
    "\n",
    "# normal = \"berlin-1pct\"\n",
    "# normal = \"../1pct-output-test\"\n",
    "# normal = \"../simulation/charlottenburg/output\"\n",
    "normal = \"../aws/N/output\"\n",
    "\n",
    "scenarios = [\n",
    "  \"apats-output\"\n",
    "#   \"greater-berlin-1pct\"\n",
    "  # \"../simulation/charlottenburg/output\"\n",
    "]"
   ]
  },
  {
   "cell_type": "code",
   "execution_count": null,
   "metadata": {
    "scrolled": true
   },
   "outputs": [],
   "source": [
    "def get_trips(file_path):\n",
    "    trips = []\n",
    "    \n",
    "    for event, element in etree.iterparse(file_path, tag=\"tripinfo\"):\n",
    "        current_trip = {\n",
    "            \"id\": element.attrib[\"id\"],\n",
    "            \"duration\": float(element.attrib[\"duration\"]),\n",
    "            \"routeLength\": float(element.attrib[\"routeLength\"]),\n",
    "            \"rerouteNo\": float(element.attrib[\"rerouteNo\"])\n",
    "        }\n",
    "        \n",
    "        emissions = element.getchildren()[0]\n",
    "        for key in emissions.attrib:\n",
    "            current_trip[key] = float(emissions.attrib[key])\n",
    "\n",
    "        trips.append(current_trip)\n",
    "\n",
    "        element.clear()\n",
    "\n",
    "    return trips\n",
    "\n",
    "metrics = {\n",
    "    \"distance\": {\n",
    "        \"key\": \"routeLength\",\n",
    "        \"scale\": 1000,\n",
    "        \"unit\": \"km\",\n",
    "        \"label\": \"Distance\"\n",
    "    },\n",
    "    \"duration\": {\n",
    "        \"key\": \"duration\",\n",
    "        \"scale\": 60,\n",
    "        \"unit\": \"min\",\n",
    "        \"label\": \"Duration\"\n",
    "    },\n",
    "    \"CO2\": {\n",
    "        \"key\": \"CO2_abs\",\n",
    "        \"unit\": \"mg\",\n",
    "        \"label\": \"CO2\"\n",
    "    },\n",
    "    \"PMx\": {\n",
    "        \"key\": \"PMx_abs\",\n",
    "        \"unit\": \"mg\",\n",
    "        \"label\": \"PMx\"\n",
    "    },\n",
    "    \"NOx\": {\n",
    "        \"key\": \"NOx_abs\",\n",
    "        \"unit\": \"mg\",\n",
    "        \"label\": \"NOx\"\n",
    "    },\n",
    "    \"fuel\": {\n",
    "        \"key\": \"fuel_abs\",\n",
    "        \"unit\": \"ml\",\n",
    "        \"label\": \"Fuel\"\n",
    "    },\n",
    "}\n",
    "\n",
    "# prefix n_ for normal\n",
    "n_trips = get_trips(f\"{normal}/trips-info.xml\")\n",
    "scenario_data = {}\n",
    "\n",
    "for s in scenarios:\n",
    "    trips = get_trips(f\"{s}/trips-info.xml\")\n",
    "    scenario_data[s] = trips"
   ]
  },
  {
   "cell_type": "markdown",
   "metadata": {},
   "source": [
    "### Total Amount of Trips"
   ]
  },
  {
   "cell_type": "code",
   "execution_count": null,
   "metadata": {
    "tags": [
     "outputPrepend"
    ]
   },
   "outputs": [],
   "source": [
    "print(\"Normal:\", len(n_trips))\n",
    "\n",
    "for s in scenario_data:\n",
    "    print(f\"{s}:\", len(scenario_data[s]))"
   ]
  },
  {
   "cell_type": "markdown",
   "metadata": {},
   "source": [
    "### Average Amount of Trips per Person"
   ]
  },
  {
   "cell_type": "code",
   "execution_count": null,
   "metadata": {
    "tags": [
     "outputPrepend"
    ]
   },
   "outputs": [],
   "source": [
    "def get_average_trips_per_person(trips):\n",
    "    persons = {}\n",
    "    for trip in trips:\n",
    "        person, counter = trip[\"id\"].split(\"_\")\n",
    "        if person in persons:\n",
    "            persons[person] += 1\n",
    "        else:\n",
    "            persons[person] = 1\n",
    "\n",
    "    return format(sum(persons.values()) / len(persons), \".3f\")\n",
    "\n",
    "print(\"Normal:\", get_average_trips_per_person(n_trips), \"trips\")\n",
    "\n",
    "for s in scenario_data:\n",
    "    print(f\"{s}:\", get_average_trips_per_person(scenario_data[s]), \"trips\")"
   ]
  },
  {
   "cell_type": "markdown",
   "metadata": {},
   "source": [
    "### Mean value comparison for all vehicles"
   ]
  },
  {
   "cell_type": "code",
   "execution_count": null,
   "metadata": {},
   "outputs": [],
   "source": [
    "for metric in metrics:\n",
    "    key = metrics[metric][\"key\"]\n",
    "    unit = metrics[metric][\"unit\"]\n",
    "\n",
    "    n_values = np.array(list(map(lambda t: t[key], n_trips)))\n",
    "    if \"scale\" in metrics[metric]:\n",
    "        scale = metrics[metric][\"scale\"]\n",
    "        n_values = n_values / scale\n",
    "    n_mean = n_values.mean()\n",
    "    \n",
    "    print(f\"Mean {metric}\")\n",
    "    print(f\"{normal}:\", format(n_mean, '.3f'), unit)\n",
    "    \n",
    "\n",
    "    if len(scenarios) > 0:\n",
    "        for s in scenarios:\n",
    "            s_trips = scenario_data[s]\n",
    "            s_values = np.array(list(map(lambda t: t[key], s_trips)))\n",
    "            if \"scale\" in metrics[metric]:\n",
    "                scale = metrics[metric][\"scale\"]\n",
    "                s_values = s_values / scale\n",
    "            s_mean = s_values.mean()\n",
    "\n",
    "            print(f\"{s}:\", format(s_mean, '.3f'), unit)\n",
    "            print(\"Absolute difference:\", format(s_mean - n_mean, '.3f'), unit)\n",
    "            print(\"Relative difference:\", format((s_mean - n_mean) / n_mean, '.3f'), \"%\")\n",
    "            print()\n",
    "    else:\n",
    "        print()"
   ]
  },
  {
   "cell_type": "markdown",
   "metadata": {},
   "source": [
    "### Mean distance/duration comparison only for rerouted vehicles"
   ]
  },
  {
   "cell_type": "code",
   "execution_count": null,
   "metadata": {},
   "outputs": [],
   "source": [
    "for s in scenarios:\n",
    "    s_trips = scenario_data[s]\n",
    "\n",
    "    rr_s_trips = list(filter(lambda t: t[\"rerouteNo\"] > 0, s_trips))\n",
    "    rr_ids = list(map(lambda t: t[\"id\"], rr_s_trips))\n",
    "    rr_n_trips = list(filter(lambda t: t[\"id\"] in rr_ids, n_trips))\n",
    "\n",
    "    for metric in metrics:\n",
    "        key = metrics[metric][\"key\"]\n",
    "        unit = metrics[metric][\"unit\"]\n",
    "\n",
    "        n_values = np.array(list(map(lambda t: t[key], rr_n_trips)))\n",
    "        s_values = np.array(list(map(lambda t: t[key], rr_s_trips)))\n",
    "\n",
    "        if \"scale\" in metrics[metric]:\n",
    "            scale = metrics[metric][\"scale\"]\n",
    "            n_values = n_values / scale\n",
    "            s_values = s_values / scale\n",
    "\n",
    "        print(f\"Mean {metric}\")\n",
    "        print(f\"{normal}:\", n_values.mean(), unit)\n",
    "        print(f\"{s}:\", s_values.mean(), unit)\n",
    "        print(\"Difference:\", s_values.mean() - n_values.mean(), unit, \"\\n\")"
   ]
  },
  {
   "cell_type": "markdown",
   "metadata": {},
   "source": [
    "### Additional distance/duration for rerouted vehicles"
   ]
  },
  {
   "cell_type": "code",
   "execution_count": null,
   "metadata": {
    "tags": [
     "outputPrepend",
     "outputPrepend"
    ]
   },
   "outputs": [],
   "source": [
    "for s in scenarios:\n",
    "    s_trips = scenario_data[s]\n",
    "\n",
    "    rr_s_trips = list(filter(lambda t: t[\"rerouteNo\"] > 0, s_trips))\n",
    "    rr_ids = list(map(lambda t: t[\"id\"], rr_s_trips))\n",
    "    rr_n_trips = list(filter(lambda t: t[\"id\"] in rr_ids, n_trips))\n",
    "\n",
    "    for metric in metrics:\n",
    "        key = metrics[metric][\"key\"]\n",
    "        unit = metrics[metric][\"unit\"]\n",
    "\n",
    "        additional_values = []\n",
    "        additional_percent = []\n",
    "        for rr_s_t in rr_s_trips:\n",
    "            rr_n_t = list(filter(lambda t: t[\"id\"] == rr_s_t[\"id\"], rr_n_trips))[0]\n",
    "            if rr_n_t[key] == 0:\n",
    "                print(rr_s_t)\n",
    "                continue\n",
    "            additional_values.append(rr_s_t[key] - rr_n_t[key])\n",
    "            additional_percent.append((rr_s_t[key] - rr_n_t[key]) / rr_n_t[key])\n",
    "        \n",
    "        additional_values = np.array(additional_values)\n",
    "        additional_percent = np.array(additional_percent)\n",
    "\n",
    "        if \"scale\" in metrics[metric]:\n",
    "            scale = metrics[metric][\"scale\"]\n",
    "            additional_values = additional_values / scale\n",
    "\n",
    "        print(f\"Mean additional {metric}:\", format(additional_values.mean(), \".3f\"), unit)\n",
    "        print(f\"Mean fractional increase:\", format(additional_percent.mean(), \".3f\"), \"\\n\")"
   ]
  }
 ],
 "metadata": {
  "file_extension": ".py",
  "kernelspec": {
   "display_name": "Python 3",
   "language": "python",
   "name": "python3"
  },
  "language_info": {
   "codemirror_mode": {
    "name": "ipython",
    "version": 3
   },
   "file_extension": ".py",
   "mimetype": "text/x-python",
   "name": "python",
   "nbconvert_exporter": "python",
   "pygments_lexer": "ipython3",
   "version": "3.8.2-final"
  },
  "mimetype": "text/x-python",
  "name": "python",
  "npconvert_exporter": "python",
  "pygments_lexer": "ipython3",
  "version": 3
 },
 "nbformat": 4,
 "nbformat_minor": 2
}