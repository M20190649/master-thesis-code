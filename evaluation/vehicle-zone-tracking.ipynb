{
 "cells": [
  {
   "cell_type": "markdown",
   "metadata": {},
   "source": [
    "# Analysis of `vehicle-zone-tracking.xml`"
   ]
  },
  {
   "cell_type": "code",
   "execution_count": 19,
   "metadata": {
    "scrolled": true
   },
   "outputs": [],
   "source": [
    "import pprint, math, datetime\n",
    "from time import strftime, gmtime\n",
    "from lxml import etree\n",
    "import matplotlib.pyplot as plt\n",
    "import numpy as np\n",
    "\n",
    "from paths import normal, scenarios\n",
    "\n",
    "plt.rcParams[\"figure.figsize\"] = 30, 20\n",
    "plt.rcParams[\"font.size\"] = 20\n",
    "plt.rcParams[\"axes.titlesize\"] = 50\n",
    "plt.rcParams[\"axes.titlepad\"] = 80\n",
    "\n",
    "def get_distances_per_zone(file_path, freeze_zones=False):\n",
    "    class SAXParser:\n",
    "        def __init__(self):\n",
    "            self.current_zone_timestep = \"\"\n",
    "            self.current_vehicle = {}\n",
    "            \n",
    "            self.distances_per_zone = {}\n",
    "\n",
    "        def start(self, tag, attr):\n",
    "            if tag == \"timestep\":\n",
    "                self.current_zone_timestep = attr[\"zone-timestep\"]\n",
    "            \n",
    "            if tag == \"vehicle\":\n",
    "                self.current_vehicle = attr\n",
    "\n",
    "                vid = self.current_vehicle[\"id\"]\n",
    "                if vid not in self.distances_per_zone:\n",
    "                    self.distances_per_zone[vid] = {}\n",
    "\n",
    "            if tag == \"polygon\":\n",
    "                distances = self.distances_per_zone[self.current_vehicle[\"id\"]]\n",
    "                v_timestep = self.current_vehicle[\"zone-timestep\"]\n",
    "                \n",
    "                pid, p_timestep = attr[\"id\"].split(\"_\")\n",
    "\n",
    "                if freeze_zones:\n",
    "                    if p_timestep != v_timestep:\n",
    "                        return\n",
    "                else:\n",
    "                    if p_timestep != self.current_zone_timestep:\n",
    "                        return\n",
    "\n",
    "                if pid.startswith(\"hole\"):\n",
    "                    hole, hole_counter, zone, polygon_counter = pid.split(\"-\")\n",
    "                    if zone in distances:\n",
    "                        distances[zone] -= float(self.current_vehicle[\"speed\"])\n",
    "                    else:\n",
    "                        distances[zone] = -float(self.current_vehicle[\"speed\"])\n",
    "                else:\n",
    "                    zone, polygon_counter = pid.split(\"-\")\n",
    "                    if zone in distances:\n",
    "                        distances[zone] += float(self.current_vehicle[\"speed\"])\n",
    "                    else:\n",
    "                        distances[zone] = float(self.current_vehicle[\"speed\"])\n",
    "                \n",
    "                    \n",
    "\n",
    "        def end(self, tag):\n",
    "            pass\n",
    "\n",
    "        def close(self):\n",
    "            pass\n",
    "\n",
    "    sax_parser = SAXParser()\n",
    "    xml_parser = etree.XMLParser(target=sax_parser)\n",
    "    etree.parse(file_path, parser=xml_parser)\n",
    "\n",
    "    return sax_parser.distances_per_zone\n",
    "\n",
    "n_distances = get_distances_per_zone(f\"{normal}/vehicle-zone-tracking.xml\")\n",
    "\n",
    "scenario_data = {}\n",
    "\n",
    "for s in scenarios:\n",
    "    distances = get_distances_per_zone(f\"{s}/vehicle-zone-tracking.xml\")\n",
    "    scenario_data[s] = distances"
   ]
  },
  {
   "cell_type": "markdown",
   "metadata": {},
   "source": [
    "### Distances per trip"
   ]
  },
  {
   "cell_type": "code",
   "execution_count": 20,
   "metadata": {},
   "outputs": [
    {
     "output_type": "stream",
     "name": "stdout",
     "text": "{'399267601_1': {'01': 890.6585702078103, '02': 408.81091725874575}}\n"
    }
   ],
   "source": [
    "pprint.pprint(n_distances)"
   ]
  },
  {
   "cell_type": "markdown",
   "metadata": {},
   "source": [
    "### Distances per person"
   ]
  },
  {
   "cell_type": "code",
   "execution_count": 25,
   "metadata": {},
   "outputs": [
    {
     "output_type": "stream",
     "name": "stdout",
     "text": "{'399267601': {'01': 890.6585702078103, '02': 408.81091725874575}}\n"
    }
   ],
   "source": [
    "n_distances_pp = {}\n",
    "\n",
    "for trip in n_distances:\n",
    "    person, counter = trip.split(\"_\")\n",
    "\n",
    "    if person in n_distances_pp:\n",
    "        person_distances = n_distances_pp[person]\n",
    "        trip_distances = n_distances[trip]\n",
    "\n",
    "        for zone in trip_distances:\n",
    "            if zone in person_distances:\n",
    "                person_distances[zone] += trip_distances[zone]\n",
    "            else:\n",
    "                person_distances[zone] = trip_distances[zone]\n",
    "                \n",
    "        n_distances_pp[person] = person_distances\n",
    "\n",
    "    else:\n",
    "        n_distances_pp[person] = n_distances[trip]\n",
    "\n",
    "pprint.pprint(n_distances_pp)\n"
   ]
  }
 ],
 "metadata": {
  "file_extension": ".py",
  "kernelspec": {
   "display_name": "Python 3",
   "language": "python",
   "name": "python3"
  },
  "language_info": {
   "codemirror_mode": {
    "name": "ipython",
    "version": 3
   },
   "file_extension": ".py",
   "mimetype": "text/x-python",
   "name": "python",
   "nbconvert_exporter": "python",
   "pygments_lexer": "ipython3",
   "version": "3.8.2-final"
  },
  "mimetype": "text/x-python",
  "name": "python",
  "npconvert_exporter": "python",
  "pygments_lexer": "ipython3",
  "version": 3
 },
 "nbformat": 4,
 "nbformat_minor": 2
}