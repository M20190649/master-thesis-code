{
 "cells": [
  {
   "cell_type": "markdown",
   "metadata": {},
   "source": [
    "# Analysis of `vehicle-zone-tracking.xml`"
   ]
  },
  {
   "cell_type": "code",
   "execution_count": null,
   "metadata": {},
   "outputs": [],
   "source": [
    "import pprint, math, datetime\n",
    "from time import strftime, gmtime\n",
    "from lxml import etree\n",
    "import matplotlib.pyplot as plt\n",
    "import numpy as np\n",
    "\n",
    "plt.rcParams[\"figure.figsize\"] = 30, 20\n",
    "plt.rcParams[\"font.size\"] = 20\n",
    "plt.rcParams[\"axes.titlesize\"] = 50\n",
    "plt.rcParams[\"axes.titlepad\"] = 80\n",
    "\n",
    "# normal = \"berlin-1pct\"\n",
    "# normal = \"../1pct-output-test\"\n",
    "normal = \"normal-output\"\n",
    "\n",
    "scenarios = [\n",
    "  \"apats-output\"\n",
    "#   \"greater-berlin-1pct\"\n",
    "]"
   ]
  },
  {
   "cell_type": "code",
   "execution_count": null,
   "metadata": {
    "scrolled": true
   },
   "outputs": [],
   "source": [
    "def get_distances_per_zone(file_path, freeze_zones=False):\n",
    "    distances_per_zone = {}\n",
    "  \n",
    "    for event, element in etree.iterparse(file_path, tag=\"timestep\"):\n",
    "        current_zone_timestep = element.attrib[\"zone-timestep\"]\n",
    "\n",
    "        for vehicle in element.getchildren():\n",
    "            vid = vehicle.attrib[\"id\"]\n",
    "            speed = float(vehicle.attrib[\"speed\"])\n",
    "            v_timestep = vehicle.attrib[\"zone-timestep\"]\n",
    "\n",
    "            distances = {}\n",
    "            if vid in distances_per_zone:\n",
    "                distances = distances_per_zone[vid]\n",
    "\n",
    "            for polygon in vehicle.getchildren():\n",
    "                pid_parts = polygon.attrib[\"id\"].split(\"_\")\n",
    "                pid = pid_parts[0]\n",
    "                p_timestep = pid_parts[1]\n",
    "\n",
    "                if freeze_zones:\n",
    "                    if p_timestep != v_timestep:\n",
    "                        continue\n",
    "                else:\n",
    "                    if p_timestep != current_zone_timestep:\n",
    "                        continue\n",
    "\n",
    "                if pid.startswith(\"hole\"):\n",
    "                    hole, hole_counter, zone, polygon_counter = pid.split(\"-\")\n",
    "                    if zone in distances:\n",
    "                        distances[zone] -= speed\n",
    "                    else:\n",
    "                        distances[zone] = -speed\n",
    "                else:\n",
    "                    zone, polygon_counter = pid.split(\"-\")\n",
    "                    if zone in distances:\n",
    "                        distances[zone] += speed\n",
    "                    else:\n",
    "                        distances[zone] = speed\n",
    "            \n",
    "            distances_per_zone[vid] = distances\n",
    "\n",
    "        element.clear()\n",
    "\n",
    "    return distances_per_zone\n",
    "\n",
    "n_distances = get_distances_per_zone(f\"{normal}/vehicle-zone-tracking.xml\")\n",
    "\n",
    "scenario_data = {}\n",
    "\n",
    "for s in scenarios:\n",
    "    distances = get_distances_per_zone(f\"{s}/vehicle-zone-tracking.xml\")\n",
    "    scenario_data[s] = distances\n",
    "\n",
    "print(\"Done\")"
   ]
  },
  {
   "cell_type": "markdown",
   "metadata": {},
   "source": [
    "### Distances per trip"
   ]
  },
  {
   "cell_type": "code",
   "execution_count": null,
   "metadata": {},
   "outputs": [],
   "source": [
    "pprint.pprint(n_distances)"
   ]
  },
  {
   "cell_type": "markdown",
   "metadata": {},
   "source": [
    "### Distances per person"
   ]
  },
  {
   "cell_type": "code",
   "execution_count": null,
   "metadata": {},
   "outputs": [],
   "source": [
    "n_distances_pp = {}\n",
    "\n",
    "for trip in n_distances:\n",
    "    person, counter = trip.split(\"_\")\n",
    "\n",
    "    if person in n_distances_pp:\n",
    "        person_distances = n_distances_pp[person]\n",
    "        trip_distances = n_distances[trip]\n",
    "\n",
    "        for zone in trip_distances:\n",
    "            if zone in person_distances:\n",
    "                person_distances[zone] += trip_distances[zone]\n",
    "            else:\n",
    "                person_distances[zone] = trip_distances[zone]\n",
    "                \n",
    "        n_distances_pp[person] = person_distances\n",
    "\n",
    "    else:\n",
    "        n_distances_pp[person] = n_distances[trip]\n",
    "\n",
    "pprint.pprint(n_distances_pp)"
   ]
  }
 ],
 "metadata": {
  "file_extension": ".py",
  "kernelspec": {
   "display_name": "Python 3",
   "language": "python",
   "name": "python3"
  },
  "language_info": {
   "codemirror_mode": {
    "name": "ipython",
    "version": 3
   },
   "file_extension": ".py",
   "mimetype": "text/x-python",
   "name": "python",
   "nbconvert_exporter": "python",
   "pygments_lexer": "ipython3",
   "version": "3.8.2-final"
  },
  "mimetype": "text/x-python",
  "name": "python",
  "npconvert_exporter": "python",
  "pygments_lexer": "ipython3",
  "version": 3
 },
 "nbformat": 4,
 "nbformat_minor": 2
}