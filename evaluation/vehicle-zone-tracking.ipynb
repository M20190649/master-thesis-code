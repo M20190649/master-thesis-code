{
 "cells": [
  {
   "cell_type": "markdown",
   "metadata": {},
   "source": [
    "# Analysis of `vehicle-zone-tracking.xml`"
   ]
  },
  {
   "cell_type": "code",
   "execution_count": null,
   "metadata": {},
   "outputs": [],
   "source": [
    "import pprint, math, datetime\n",
    "from time import strftime, gmtime\n",
    "from lxml import etree\n",
    "import matplotlib.pyplot as plt\n",
    "import numpy as np\n",
    "\n",
    "plt.rcParams[\"figure.figsize\"] = 30, 20\n",
    "plt.rcParams[\"font.size\"] = 20\n",
    "plt.rcParams[\"axes.titlesize\"] = 50\n",
    "plt.rcParams[\"axes.titlepad\"] = 80\n",
    "\n",
    "# scenario = \"berlin-1pct\"\n",
    "scenario = \"charlottenburg-no-meso-periodic\"\n",
    "# scenario = \"normal-output\"\n",
    "\n",
    "def get_total_trips():\n",
    "    statistics_file = f\"{scenario}/statistics.xml\"\n",
    "    for event, element in etree.iterparse(statistics_file, tag=\"vehicles\"):\n",
    "        return int(element.attrib[\"inserted\"])\n",
    "\n",
    "def get_total_persons():\n",
    "    trips_info_file = f\"{scenario}/trips-info.xml\"\n",
    "    persons = []\n",
    "    for event, element in etree.iterparse(trips_info_file, tag=\"tripinfo\"):\n",
    "        person, counter = element.attrib[\"id\"].split(\"_\")\n",
    "        if person not in persons:\n",
    "            persons.append(person)\n",
    "        \n",
    "    return len(persons)\n",
    "\n",
    "total_trips = get_total_trips()\n",
    "print(\"Total trips:\", total_trips)\n",
    "\n",
    "total_persons = get_total_persons()\n",
    "print(\"Total persons:\", total_persons)"
   ]
  },
  {
   "cell_type": "code",
   "execution_count": null,
   "metadata": {
    "scrolled": true
   },
   "outputs": [],
   "source": [
    "def get_distances_per_zone(file_path, freeze_zones=False):\n",
    "    distances_per_zone = {}\n",
    "  \n",
    "    for event, element in etree.iterparse(file_path, tag=\"timestep\"):\n",
    "        current_zone_timestep = element.attrib[\"zone-timestep\"]\n",
    "\n",
    "        for vehicle in element.getchildren():\n",
    "            vid = vehicle.attrib[\"id\"]\n",
    "            speed = float(vehicle.attrib[\"speed\"])\n",
    "            v_timestep = vehicle.attrib[\"zone-timestep\"]\n",
    "\n",
    "            distances = {}\n",
    "            if vid in distances_per_zone:\n",
    "                distances = distances_per_zone[vid]\n",
    "\n",
    "            for polygon in vehicle.getchildren():\n",
    "                pid_parts = polygon.attrib[\"id\"].split(\"_\")\n",
    "                pid = pid_parts[0]\n",
    "                p_timestep = pid_parts[1]\n",
    "\n",
    "                if freeze_zones:\n",
    "                    if p_timestep != v_timestep:\n",
    "                        continue\n",
    "                else:\n",
    "                    if p_timestep != current_zone_timestep:\n",
    "                        continue\n",
    "\n",
    "                if pid.startswith(\"hole\"):\n",
    "                    hole, hole_counter, zone, polygon_counter = pid.split(\"-\")\n",
    "                    if zone in distances:\n",
    "                        distances[zone] -= speed\n",
    "                    else:\n",
    "                        distances[zone] = -speed\n",
    "                else:\n",
    "                    zone, polygon_counter = pid.split(\"-\")\n",
    "                    if zone in distances:\n",
    "                        distances[zone] += speed\n",
    "                    else:\n",
    "                        distances[zone] = speed\n",
    "            \n",
    "            distances_per_zone[vid] = distances\n",
    "\n",
    "        element.clear()\n",
    "\n",
    "    return distances_per_zone\n",
    "\n",
    "distances = get_distances_per_zone(f\"{scenario}/vehicle-zone-tracking.xml\")\n",
    "\n",
    "print(\"Done\")"
   ]
  },
  {
   "cell_type": "markdown",
   "metadata": {},
   "source": [
    "### Distances per trip"
   ]
  },
  {
   "cell_type": "code",
   "execution_count": null,
   "metadata": {},
   "outputs": [],
   "source": [
    "# pprint.pprint(distances)"
   ]
  },
  {
   "cell_type": "markdown",
   "metadata": {},
   "source": [
    "### Distances per person"
   ]
  },
  {
   "cell_type": "code",
   "execution_count": null,
   "metadata": {},
   "outputs": [],
   "source": [
    "distances_pp = {}\n",
    "\n",
    "for trip in distances:\n",
    "    person, counter = trip.split(\"_\")\n",
    "\n",
    "    if person in distances_pp:\n",
    "        persodistances = distances_pp[person]\n",
    "        trip_distances = distances[trip]\n",
    "\n",
    "        for zone in trip_distances:\n",
    "            if zone in persodistances:\n",
    "                persodistances[zone] += trip_distances[zone]\n",
    "            else:\n",
    "                persodistances[zone] = trip_distances[zone]\n",
    "                \n",
    "        distances_pp[person] = persodistances\n",
    "\n",
    "    else:\n",
    "        distances_pp[person] = distances[trip]\n",
    "\n",
    "# pprint.pprint(distances_pp)"
   ]
  },
  {
   "cell_type": "markdown",
   "metadata": {},
   "source": [
    "### Total trips per zone"
   ]
  },
  {
   "cell_type": "code",
   "execution_count": null,
   "metadata": {},
   "outputs": [],
   "source": [
    "total_trips_pz = {}\n",
    "\n",
    "for trip in distances:\n",
    "    distances_pz = distances[trip]\n",
    "    for zone in distances_pz:\n",
    "        if zone in total_trips_pz:\n",
    "            total_trips_pz[zone] += 1\n",
    "        else:\n",
    "            total_trips_pz[zone] = 1\n",
    "\n",
    "for zone in total_trips_pz:\n",
    "    print(f\"Zone {zone}:\", total_trips_pz[zone])\n",
    "\n",
    "# print(total_trips_pz)"
   ]
  },
  {
   "cell_type": "markdown",
   "metadata": {},
   "source": [
    "### Total persons per zone"
   ]
  },
  {
   "cell_type": "code",
   "execution_count": null,
   "metadata": {},
   "outputs": [],
   "source": [
    "total_persons_pz = {}\n",
    "\n",
    "for trip in distances:\n",
    "    person, counter = trip.split(\"_\")\n",
    "    distances_pz = distances[trip]\n",
    "    for zone in distances_pz:\n",
    "        if zone in total_persons_pz:\n",
    "            if person not in total_persons_pz[zone]:\n",
    "                total_persons_pz[zone].append(person)\n",
    "        else:\n",
    "            total_persons_pz[zone] = [person]\n",
    "\n",
    "for zone in total_persons_pz:\n",
    "    total_persons_pz[zone] = len(total_persons_pz[zone])\n",
    "    print(f\"Zone {zone}:\", total_persons_pz[zone])\n",
    "    \n",
    "# print(total_persons_pz)"
   ]
  },
  {
   "cell_type": "markdown",
   "metadata": {},
   "source": [
    "### Total distances per zone"
   ]
  },
  {
   "cell_type": "code",
   "execution_count": null,
   "metadata": {},
   "outputs": [],
   "source": [
    "total_distances_pz = {}\n",
    "\n",
    "for trip in distances:\n",
    "    distances_pz = distances[trip]\n",
    "    for zone in distances_pz:\n",
    "        if zone in total_distances_pz:\n",
    "            total_distances_pz[zone][\"distance\"] += distances_pz[zone] / 1000\n",
    "            total_distances_pz[zone][\"n\"] += 1\n",
    "        else:\n",
    "            total_distances_pz[zone] = {\n",
    "                \"distance\": distances_pz[zone] / 1000,\n",
    "                \"n\": 1\n",
    "            } \n",
    "\n",
    "for zone in total_distances_pz:\n",
    "    total_distances_pz[zone] = {\n",
    "        \"total\": total_distances_pz[zone][\"distance\"],\n",
    "        \"n\": total_distances_pz[zone][\"n\"]\n",
    "    }\n",
    "    print(f\"Zone {zone}:\", total_distances_pz[zone][\"total\"], \"km\")\n",
    "\n",
    "# pprint.pprint(total_distances_pz)"
   ]
  },
  {
   "cell_type": "markdown",
   "metadata": {},
   "source": [
    "### Average distance per zone per trip"
   ]
  },
  {
   "cell_type": "code",
   "execution_count": null,
   "metadata": {},
   "outputs": [],
   "source": [
    "avg_distances_pz = {}\n",
    "\n",
    "for trip in distances:\n",
    "    distances_pz = distances[trip]\n",
    "    for zone in distances_pz:\n",
    "        if zone in avg_distances_pz:\n",
    "            avg_distances_pz[zone][\"distance\"] += distances_pz[zone]\n",
    "            avg_distances_pz[zone][\"n\"] += 1\n",
    "        else:\n",
    "            avg_distances_pz[zone] = {\n",
    "                \"distance\": distances_pz[zone],\n",
    "                \"n\": 1\n",
    "            }\n",
    "    \n",
    "for zone in avg_distances_pz:\n",
    "    avg_distances_pz[zone] = {\n",
    "        \"avg\": avg_distances_pz[zone][\"distance\"] / avg_distances_pz[zone][\"n\"],\n",
    "        \"n\": avg_distances_pz[zone][\"n\"]\n",
    "    }\n",
    "    print(f\"Zone {zone}:\", avg_distances_pz[zone][\"avg\"], \"m\")\n",
    "# pprint.pprint(avg_distances_pz)"
   ]
  },
  {
   "cell_type": "markdown",
   "metadata": {},
   "source": [
    "### Average distance per zone per person"
   ]
  },
  {
   "cell_type": "code",
   "execution_count": null,
   "metadata": {},
   "outputs": [],
   "source": [
    "avg_distances_pz = {}\n",
    "\n",
    "for person in distances_pp:\n",
    "    distances_pz = distances_pp[person]\n",
    "    for zone in distances_pz:\n",
    "        if zone in avg_distances_pz:\n",
    "            avg_distances_pz[zone][\"distance\"] += distances_pz[zone]\n",
    "            avg_distances_pz[zone][\"n\"] += 1\n",
    "        else:\n",
    "            avg_distances_pz[zone] = {\n",
    "                \"distance\": distances_pz[zone],\n",
    "                \"n\": 1\n",
    "            }\n",
    "\n",
    "for zone in avg_distances_pz:\n",
    "    avg_distances_pz[zone] = {\n",
    "        \"avg\": avg_distances_pz[zone][\"distance\"] / avg_distances_pz[zone][\"n\"],\n",
    "        \"n\": avg_distances_pz[zone][\"n\"]\n",
    "    }\n",
    "    \n",
    "    print(f\"Zone {zone}:\", avg_distances_pz[zone][\"avg\"], \"m\")\n",
    "    \n",
    "# pprint.pprint(avg_distances_pz)"
   ]
  }
 ],
 "metadata": {
  "file_extension": ".py",
  "kernelspec": {
   "display_name": "Python 3",
   "language": "python",
   "name": "python3"
  },
  "language_info": {
   "codemirror_mode": {
    "name": "ipython",
    "version": 3
   },
   "file_extension": ".py",
   "mimetype": "text/x-python",
   "name": "python",
   "nbconvert_exporter": "python",
   "pygments_lexer": "ipython3",
   "version": "3.8.2-final"
  },
  "mimetype": "text/x-python",
  "name": "python",
  "npconvert_exporter": "python",
  "pygments_lexer": "ipython3",
  "version": 3
 },
 "nbformat": 4,
 "nbformat_minor": 2
}