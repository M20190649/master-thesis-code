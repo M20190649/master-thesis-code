{
 "cells": [
  {
   "cell_type": "markdown",
   "metadata": {},
   "source": [
    "# Analysis of `vehicle-summary.xml`"
   ]
  },
  {
   "cell_type": "code",
   "execution_count": null,
   "metadata": {},
   "outputs": [],
   "source": [
    "import pprint, math, datetime\n",
    "from time import strftime, gmtime\n",
    "from lxml import etree\n",
    "import matplotlib.pyplot as plt\n",
    "import numpy as np\n",
    "\n",
    "plt.rcParams[\"figure.figsize\"] = 30, 20\n",
    "plt.rcParams[\"font.size\"] = 20\n",
    "plt.rcParams[\"axes.titlesize\"] = 50\n",
    "plt.rcParams[\"axes.titlepad\"] = 80\n",
    "\n",
    "# normal = \"charlottenburg-meso\"\n",
    "# scenarios = [\n",
    "#   \"charlottenburg-no-meso\",\n",
    "#   \"charlottenburg-no-meso-periodic\"\n",
    "# ]\n",
    "\n",
    "# normal = \"berlin-1pct-with-internal-links\"\n",
    "# scenarios = [\n",
    "#   \"berlin-1pct-without-internal-links\"\n",
    "# ]\n",
    "\n",
    "normal = \"../aws/N/output\"\n",
    "scenarios = [\n",
    "  # \"apats-output\"\n",
    "  # \"../simulation/charlottenburg/mesosim\"\n",
    "]\n",
    "\n"
   ]
  },
  {
   "cell_type": "code",
   "execution_count": null,
   "metadata": {
    "scrolled": true
   },
   "outputs": [],
   "source": [
    "def get_vehicle_step_summary(file_path):\n",
    "    steps = []\n",
    "    \n",
    "    for event, element in etree.iterparse(file_path, tag=\"step\"):\n",
    "        current_step = {\n",
    "            \"time\": float(element.attrib[\"time\"]),\n",
    "            \"running\": float(element.attrib[\"running\"]),\n",
    "            \"meanWaitingTime\": float(element.attrib[\"meanWaitingTime\"]),\n",
    "            \"meanTravelTime\": float(element.attrib[\"meanTravelTime\"]),\n",
    "            \"meanSpeed\": float(element.attrib[\"meanSpeed\"]),\n",
    "            \"meanSpeedRelative\": float(element.attrib[\"meanSpeedRelative\"])\n",
    "        }\n",
    "        steps.append(current_step)\n",
    "\n",
    "        element.clear()\n",
    "\n",
    "    return steps\n",
    "\n",
    "def aggregate_by(values, interval=60):\n",
    "    interval_steps = []\n",
    "    interval_values = []\n",
    "\n",
    "    interval_sum = 0\n",
    "    for t in range(len(values)):\n",
    "        interval_sum += values[t]\n",
    "\n",
    "        if t > 0 and t % interval == 0:\n",
    "            interval_steps.append(t - interval)\n",
    "            interval_values.append(interval_sum / interval)\n",
    "            interval_sum = 0\n",
    "\n",
    "        # if t == len(values) - 1 and interval_sum > 0:\n",
    "        #     interval_steps.append(math.ceil(t / interval))\n",
    "        #     interval_values.append(interval_sum / interval)\n",
    "        #     interval_sum = 0\n",
    "\n",
    "    return (interval_steps, interval_values)\n",
    "\n",
    "n_steps = get_vehicle_step_summary(f\"{normal}/vehicle-summary.xml\")\n",
    "\n",
    "scenario_data = {}\n",
    "\n",
    "for s in scenarios:\n",
    "    steps = get_vehicle_step_summary(f\"{s}/vehicle-summary.xml\")\n",
    "    scenario_data[s] = steps"
   ]
  },
  {
   "cell_type": "markdown",
   "metadata": {},
   "source": [
    "### Compare mean travelTime/speed over time"
   ]
  },
  {
   "cell_type": "code",
   "execution_count": null,
   "metadata": {},
   "outputs": [],
   "source": [
    "def plot_attribute(attr, interval=60*60):\n",
    "    fig, ax = plt.subplots()\n",
    "\n",
    "    mean_values = list(map(lambda s: s[attr], n_steps))\n",
    "    x, y = aggregate_by(mean_values, interval=interval)\n",
    "    ax.plot(x, y, label=normal)\n",
    "\n",
    "    for s in scenarios:\n",
    "        steps = scenario_data[s]\n",
    "        mean_values = list(map(lambda s: s[attr], steps))\n",
    "        x, y = aggregate_by(mean_values, interval=interval)\n",
    "        ax.plot(x, y, label=s)\n",
    "\n",
    "    ax.set_xlabel(\"Time of Day\")\n",
    "    xticks = x[0::3]\n",
    "    xticks_labels = list(map(lambda t: strftime(\"%H:%M:%S\", gmtime(t)), xticks))\n",
    "    ax.set_xticks(xticks)\n",
    "    ax.set_xticklabels(xticks_labels)\n",
    "\n",
    "    ax.set_ylabel(attr)\n",
    "    ax.legend(loc=\"upper right\")\n",
    "\n",
    "    fig.set_dpi(100)\n",
    "    fig.savefig(f\"{attr}.png\", bbox_inches=\"tight\")\n",
    "\n",
    "interval = 60*60\n",
    "plot_attribute(\"meanSpeed\", interval=interval)\n",
    "plot_attribute(\"meanTravelTime\", interval=interval)\n",
    "plot_attribute(\"running\", interval=interval)"
   ]
  }
 ],
 "metadata": {
  "file_extension": ".py",
  "kernelspec": {
   "display_name": "Python 3",
   "language": "python",
   "name": "python3"
  },
  "language_info": {
   "codemirror_mode": {
    "name": "ipython",
    "version": 3
   },
   "file_extension": ".py",
   "mimetype": "text/x-python",
   "name": "python",
   "nbconvert_exporter": "python",
   "pygments_lexer": "ipython3",
   "version": "3.8.2-final"
  },
  "mimetype": "text/x-python",
  "name": "python",
  "npconvert_exporter": "python",
  "pygments_lexer": "ipython3",
  "version": 3
 },
 "nbformat": 4,
 "nbformat_minor": 2
}