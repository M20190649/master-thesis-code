{
 "cells": [
  {
   "cell_type": "markdown",
   "metadata": {},
   "source": [
    "# Traffic visualization using `sumolib` and `edge-data`"
   ]
  },
  {
   "cell_type": "code",
   "execution_count": null,
   "metadata": {},
   "outputs": [],
   "source": [
    "from matplotlib.collections import LineCollection\n",
    "from matplotlib import pyplot as plt\n",
    "import matplotlib\n",
    "from lxml import etree\n",
    "\n",
    "if \"SUMO_HOME\" in os.environ:\n",
    "    tools = os.path.join(os.environ[\"SUMO_HOME\"], \"tools\")\n",
    "    sys.path.append(tools)\n",
    "else:\n",
    "    sys.exit(\"Please declare the environment variable 'SUMO_HOME'\")\n",
    "\n",
    "import sumolib\n",
    "from sumolib.visualization import helpers\n",
    "\n",
    "cmap = matplotlib.cm.get_cmap('winter_r')\n",
    "\n",
    "n = \"../simulation/performance/traci-n\"\n",
    "rr = \"../simulation/performance/traci-rr\"\n",
    "\n",
    "# fig, (ax1, ax2) = plt.subplots(2,1)\n",
    "# plot_heatmap(normal, ax1)\n",
    "# plot_heatmap(rr, ax2)\n",
    "# fig.set_figheight(50)\n",
    "\n",
    "fig, ax = plt.subplots()\n",
    "plot_heatmap(n, ax)"
   ]
  },
  {
   "cell_type": "code",
   "execution_count": null,
   "metadata": {
    "tags": []
   },
   "outputs": [],
   "source": [
    "def plot_heatmap(scenario, ax):\n",
    "    net = sumolib.net.readNet(f\"{scenario}/network/network.net.xml\")\n",
    "\n",
    "    default_color = [0.95 for i in range(3)]\n",
    "    colors = {}\n",
    "\n",
    "    default_width = 1\n",
    "    widths = {}\n",
    "\n",
    "    for event, edge in etree.iterparse(f\"{scenario}/output/edge-data-full-day.xml\", tag=\"edge\"):\n",
    "        c = float(edge.attrib[\"entered\"])\n",
    "        if c > 0:\n",
    "            colors[edge.attrib[\"id\"]] = c\n",
    "\n",
    "        w = float(edge.attrib[\"entered\"])\n",
    "        if w > 0:\n",
    "            widths[edge.attrib[\"id\"]] = w\n",
    "            pass\n",
    "\n",
    "    # Normalize colors\n",
    "    max_color = max(colors.values())\n",
    "    for edge in colors: \n",
    "        colors[edge] = cmap(colors[edge] / max_color)\n",
    "\n",
    "    # Normalize width\n",
    "    max_width = max(widths.values())\n",
    "    for edge in widths:\n",
    "        n_width = (widths[edge] / max_width) * 2\n",
    "        if n_width > default_width:\n",
    "            widths[edge] = n_width\n",
    "        else:\n",
    "            widths[edge] = default_width\n",
    "\n",
    "    shapes = []\n",
    "    c = []\n",
    "    w = []\n",
    "    for e in net.getEdges():\n",
    "        shapes.append(e.getShape())\n",
    "        if e.getID() in colors:\n",
    "            c.append(colors[str(e.getID())])\n",
    "        else:\n",
    "            c.append(default_color)\n",
    "        if e._id in widths:\n",
    "            w.append(widths[str(e._id)])\n",
    "        else:\n",
    "            w.append(default_width)\n",
    "\n",
    "    line_segments = LineCollection(shapes, linewidths=w, colors=c)\n",
    "    ax.add_collection(line_segments)\n",
    "    ax.set_xmargin(0.1)\n",
    "    ax.set_ymargin(0.1)\n",
    "    ax.autoscale_view(True, True, True)\n",
    "\n",
    "    norm = matplotlib.colors.Normalize\n",
    "    sm = plt.cm.ScalarMappable(cmap=cmap, norm=norm(vmin=1,vmax=max_color))\n",
    "    plt.colorbar(sm, ax=ax)"
   ]
  }
 ],
 "metadata": {
  "language_info": {
   "codemirror_mode": {
    "name": "ipython",
    "version": 3
   },
   "file_extension": ".py",
   "mimetype": "text/x-python",
   "name": "python",
   "nbconvert_exporter": "python",
   "pygments_lexer": "ipython3",
   "version": "3.8.3-final"
  },
  "orig_nbformat": 2,
  "kernelspec": {
   "name": "python3",
   "display_name": "Python 3"
  }
 },
 "nbformat": 4,
 "nbformat_minor": 2
}